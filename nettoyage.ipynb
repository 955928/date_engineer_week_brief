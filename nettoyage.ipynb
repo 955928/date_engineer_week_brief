{
 "cells": [
  {
   "cell_type": "code",
   "execution_count": 1,
   "metadata": {},
   "outputs": [
    {
     "name": "stderr",
     "output_type": "stream",
     "text": [
      "/var/folders/py/4rt338cj1ks4z3332m7l3f880000gp/T/ipykernel_2959/2059591896.py:1: DeprecationWarning: \n",
      "Pyarrow will become a required dependency of pandas in the next major release of pandas (pandas 3.0),\n",
      "(to allow more performant data types, such as the Arrow string type, and better interoperability with other libraries)\n",
      "but was not found to be installed on your system.\n",
      "If this would cause problems for you,\n",
      "please provide us feedback at https://github.com/pandas-dev/pandas/issues/54466\n",
      "        \n",
      "  import pandas as pd\n"
     ]
    }
   ],
   "source": [
    "import pandas as pd\n",
    "import sqlite3"
   ]
  },
  {
   "cell_type": "code",
   "execution_count": 56,
   "metadata": {},
   "outputs": [],
   "source": [
    "connection = sqlite3.connect(\"olist.db\")\n",
    "\n",
    "df_reviews = pd.read_sql_query(\"SELECT * FROM Reviews\",connection)\n",
    "\n",
    "connection.close()"
   ]
  },
  {
   "cell_type": "code",
   "execution_count": 12,
   "metadata": {},
   "outputs": [
    {
     "name": "stdout",
     "output_type": "stream",
     "text": [
      "<class 'pandas.core.frame.DataFrame'>\n",
      "RangeIndex: 98410 entries, 0 to 98409\n",
      "Data columns (total 8 columns):\n",
      " #   Column                   Non-Null Count  Dtype \n",
      "---  ------                   --------------  ----- \n",
      " 0   review_id                98410 non-null  object\n",
      " 1   order_id                 98410 non-null  object\n",
      " 2   review_score             98410 non-null  int64 \n",
      " 3   review_comment_title     98410 non-null  object\n",
      " 4   review_comment_message   98410 non-null  object\n",
      " 5   review_creation_date     98410 non-null  object\n",
      " 6   review_answer_timestamp  98410 non-null  object\n",
      " 7   timestamp_field_7        26 non-null     object\n",
      "dtypes: int64(1), object(7)\n",
      "memory usage: 6.0+ MB\n"
     ]
    }
   ],
   "source": [
    "df_reviews.info()"
   ]
  },
  {
   "cell_type": "code",
   "execution_count": 15,
   "metadata": {},
   "outputs": [
    {
     "data": {
      "text/html": [
       "<div>\n",
       "<style scoped>\n",
       "    .dataframe tbody tr th:only-of-type {\n",
       "        vertical-align: middle;\n",
       "    }\n",
       "\n",
       "    .dataframe tbody tr th {\n",
       "        vertical-align: top;\n",
       "    }\n",
       "\n",
       "    .dataframe thead th {\n",
       "        text-align: right;\n",
       "    }\n",
       "</style>\n",
       "<table border=\"1\" class=\"dataframe\">\n",
       "  <thead>\n",
       "    <tr style=\"text-align: right;\">\n",
       "      <th></th>\n",
       "      <th>review_id</th>\n",
       "      <th>order_id</th>\n",
       "      <th>review_score</th>\n",
       "      <th>review_comment_title</th>\n",
       "      <th>review_comment_message</th>\n",
       "      <th>review_creation_date</th>\n",
       "      <th>review_answer_timestamp</th>\n",
       "    </tr>\n",
       "  </thead>\n",
       "  <tbody>\n",
       "    <tr>\n",
       "      <th>0</th>\n",
       "      <td>15197aa66ff4d0650b5434f1b46cda19</td>\n",
       "      <td>b18dcdf73be66366873cd26c5724d1dc</td>\n",
       "      <td>1</td>\n",
       "      <td></td>\n",
       "      <td></td>\n",
       "      <td>2018-04-13 00:00:00</td>\n",
       "      <td>2018-04-16T00:39:37Z</td>\n",
       "    </tr>\n",
       "    <tr>\n",
       "      <th>1</th>\n",
       "      <td>9a0abbb668bafb95a6d2b05db43284c4</td>\n",
       "      <td>d7bd0e4afdf94846eb73642b4e3e75c3</td>\n",
       "      <td>3</td>\n",
       "      <td></td>\n",
       "      <td></td>\n",
       "      <td>2017-04-30 00:00:00</td>\n",
       "      <td>2017-05-03T00:02:22Z</td>\n",
       "    </tr>\n",
       "    <tr>\n",
       "      <th>2</th>\n",
       "      <td>fdbdb2629a7cde0f66657acc92084e7f</td>\n",
       "      <td>70a752414a13d09cc1f2b437b914b28e</td>\n",
       "      <td>3</td>\n",
       "      <td></td>\n",
       "      <td></td>\n",
       "      <td>2017-09-29 00:00:00</td>\n",
       "      <td>2017-10-02T01:12:49Z</td>\n",
       "    </tr>\n",
       "    <tr>\n",
       "      <th>3</th>\n",
       "      <td>7bc2406110b926393aa56f80a40eba40</td>\n",
       "      <td>73fc7af87114b39712e6da79b0a377eb</td>\n",
       "      <td>4</td>\n",
       "      <td></td>\n",
       "      <td></td>\n",
       "      <td>2018-01-18 00:00:00</td>\n",
       "      <td>2018-01-18T21:46:59Z</td>\n",
       "    </tr>\n",
       "    <tr>\n",
       "      <th>4</th>\n",
       "      <td>23f75a37effc35d9a915b4e1ad483793</td>\n",
       "      <td>2eaf8e099d871cd5c22b83b5ea8f6e0e</td>\n",
       "      <td>4</td>\n",
       "      <td></td>\n",
       "      <td></td>\n",
       "      <td>2018-03-28 00:00:00</td>\n",
       "      <td>2018-03-30T15:10:55Z</td>\n",
       "    </tr>\n",
       "  </tbody>\n",
       "</table>\n",
       "</div>"
      ],
      "text/plain": [
       "                          review_id                          order_id  \\\n",
       "0  15197aa66ff4d0650b5434f1b46cda19  b18dcdf73be66366873cd26c5724d1dc   \n",
       "1  9a0abbb668bafb95a6d2b05db43284c4  d7bd0e4afdf94846eb73642b4e3e75c3   \n",
       "2  fdbdb2629a7cde0f66657acc92084e7f  70a752414a13d09cc1f2b437b914b28e   \n",
       "3  7bc2406110b926393aa56f80a40eba40  73fc7af87114b39712e6da79b0a377eb   \n",
       "4  23f75a37effc35d9a915b4e1ad483793  2eaf8e099d871cd5c22b83b5ea8f6e0e   \n",
       "\n",
       "   review_score review_comment_title review_comment_message  \\\n",
       "0             1                                               \n",
       "1             3                                               \n",
       "2             3                                               \n",
       "3             4                                               \n",
       "4             4                                               \n",
       "\n",
       "  review_creation_date review_answer_timestamp  \n",
       "0  2018-04-13 00:00:00    2018-04-16T00:39:37Z  \n",
       "1  2017-04-30 00:00:00    2017-05-03T00:02:22Z  \n",
       "2  2017-09-29 00:00:00    2017-10-02T01:12:49Z  \n",
       "3  2018-01-18 00:00:00    2018-01-18T21:46:59Z  \n",
       "4  2018-03-28 00:00:00    2018-03-30T15:10:55Z  "
      ]
     },
     "execution_count": 15,
     "metadata": {},
     "output_type": "execute_result"
    }
   ],
   "source": [
    "df_reviews.head()"
   ]
  },
  {
   "cell_type": "markdown",
   "metadata": {},
   "source": [
    "# 1. Nettoyage de la table Reviews"
   ]
  },
  {
   "cell_type": "markdown",
   "metadata": {},
   "source": [
    "## 1.1 Gestion des valeurs manquantes"
   ]
  },
  {
   "cell_type": "code",
   "execution_count": 57,
   "metadata": {},
   "outputs": [],
   "source": [
    "df_reviews = df_reviews.drop([\"timestamp_field_7\"],axis=1)"
   ]
  },
  {
   "cell_type": "code",
   "execution_count": 14,
   "metadata": {},
   "outputs": [
    {
     "name": "stdout",
     "output_type": "stream",
     "text": [
      "<class 'pandas.core.frame.DataFrame'>\n",
      "RangeIndex: 98410 entries, 0 to 98409\n",
      "Data columns (total 7 columns):\n",
      " #   Column                   Non-Null Count  Dtype \n",
      "---  ------                   --------------  ----- \n",
      " 0   review_id                98410 non-null  object\n",
      " 1   order_id                 98410 non-null  object\n",
      " 2   review_score             98410 non-null  int64 \n",
      " 3   review_comment_title     98410 non-null  object\n",
      " 4   review_comment_message   98410 non-null  object\n",
      " 5   review_creation_date     98410 non-null  object\n",
      " 6   review_answer_timestamp  98410 non-null  object\n",
      "dtypes: int64(1), object(6)\n",
      "memory usage: 5.3+ MB\n"
     ]
    }
   ],
   "source": [
    "df_reviews.info()"
   ]
  },
  {
   "cell_type": "markdown",
   "metadata": {},
   "source": [
    "## 1.2 Gestion des doublons"
   ]
  },
  {
   "cell_type": "code",
   "execution_count": 58,
   "metadata": {},
   "outputs": [],
   "source": [
    "df_reviews = df_reviews.drop_duplicates(['order_id','review_score','review_comment_title','review_comment_message','review_creation_date'])"
   ]
  },
  {
   "cell_type": "code",
   "execution_count": 33,
   "metadata": {},
   "outputs": [
    {
     "data": {
      "text/plain": [
       "(98371, 7)"
      ]
     },
     "execution_count": 33,
     "metadata": {},
     "output_type": "execute_result"
    }
   ],
   "source": [
    "df_reviews.shape"
   ]
  },
  {
   "cell_type": "markdown",
   "metadata": {},
   "source": [
    "### analyse"
   ]
  },
  {
   "cell_type": "code",
   "execution_count": 19,
   "metadata": {},
   "outputs": [
    {
     "data": {
      "text/plain": [
       "(98410, 7)"
      ]
     },
     "execution_count": 19,
     "metadata": {},
     "output_type": "execute_result"
    }
   ],
   "source": [
    "df_reviews.drop_duplicates().shape"
   ]
  },
  {
   "cell_type": "code",
   "execution_count": 20,
   "metadata": {},
   "outputs": [
    {
     "data": {
      "text/plain": [
       "(98167, 7)"
      ]
     },
     "execution_count": 20,
     "metadata": {},
     "output_type": "execute_result"
    }
   ],
   "source": [
    "df_reviews.drop_duplicates(['order_id']).shape"
   ]
  },
  {
   "cell_type": "code",
   "execution_count": 21,
   "metadata": {},
   "outputs": [
    {
     "data": {
      "text/plain": [
       "(98410, 7)"
      ]
     },
     "execution_count": 21,
     "metadata": {},
     "output_type": "execute_result"
    }
   ],
   "source": [
    "df_reviews.drop_duplicates(['review_id']).shape"
   ]
  },
  {
   "cell_type": "code",
   "execution_count": 24,
   "metadata": {},
   "outputs": [
    {
     "data": {
      "text/plain": [
       "order_id                        \n",
       "7b1219cc26d69c357880055b52d87960    2\n",
       "b1e45a9d2437f4116c3ff5de92d2a527    2\n",
       "76ac5a9b38c945eb910681d171e98c55    2\n",
       "3ab974ac744bd19a111d5e19f0a90649    2\n",
       "aa20064eef8808d62ed9ac5286ec0796    2\n",
       "                                   ..\n",
       "ff1ea7be87e1ca3d2ae5b77eaa6dab69    1\n",
       "ff1f5f13541ce8f1a0755596df027a90    1\n",
       "ff1f8f328e5a59ac754240b6dd31bcb4    1\n",
       "ff207aa3493754ffcea819b8c0c0dbb5    1\n",
       "fffe41c64501cc87c801fd61db3f6244    1\n",
       "Name: count, Length: 98167, dtype: int64"
      ]
     },
     "execution_count": 24,
     "metadata": {},
     "output_type": "execute_result"
    }
   ],
   "source": [
    "df_reviews[[\"order_id\"]].value_counts().sort_values(ascending=False)"
   ]
  },
  {
   "cell_type": "code",
   "execution_count": 31,
   "metadata": {},
   "outputs": [
    {
     "data": {
      "text/html": [
       "<div>\n",
       "<style scoped>\n",
       "    .dataframe tbody tr th:only-of-type {\n",
       "        vertical-align: middle;\n",
       "    }\n",
       "\n",
       "    .dataframe tbody tr th {\n",
       "        vertical-align: top;\n",
       "    }\n",
       "\n",
       "    .dataframe thead th {\n",
       "        text-align: right;\n",
       "    }\n",
       "</style>\n",
       "<table border=\"1\" class=\"dataframe\">\n",
       "  <thead>\n",
       "    <tr style=\"text-align: right;\">\n",
       "      <th></th>\n",
       "      <th>review_id</th>\n",
       "      <th>order_id</th>\n",
       "      <th>review_score</th>\n",
       "      <th>review_comment_title</th>\n",
       "      <th>review_comment_message</th>\n",
       "      <th>review_creation_date</th>\n",
       "      <th>review_answer_timestamp</th>\n",
       "    </tr>\n",
       "  </thead>\n",
       "  <tbody>\n",
       "    <tr>\n",
       "      <th>6796</th>\n",
       "      <td>662d2c533d56243557c12699eff9d5a3</td>\n",
       "      <td>aa20064eef8808d62ed9ac5286ec0796</td>\n",
       "      <td>5</td>\n",
       "      <td></td>\n",
       "      <td></td>\n",
       "      <td>2017-04-14 00:00:00</td>\n",
       "      <td>2017-04-16 19:41:32</td>\n",
       "    </tr>\n",
       "    <tr>\n",
       "      <th>73794</th>\n",
       "      <td>d83391dee674f4df74b3e72e31774030</td>\n",
       "      <td>aa20064eef8808d62ed9ac5286ec0796</td>\n",
       "      <td>5</td>\n",
       "      <td></td>\n",
       "      <td></td>\n",
       "      <td>2017-04-20 00:00:00</td>\n",
       "      <td>2017-04-23 11:14:56</td>\n",
       "    </tr>\n",
       "  </tbody>\n",
       "</table>\n",
       "</div>"
      ],
      "text/plain": [
       "                              review_id                          order_id  \\\n",
       "6796   662d2c533d56243557c12699eff9d5a3  aa20064eef8808d62ed9ac5286ec0796   \n",
       "73794  d83391dee674f4df74b3e72e31774030  aa20064eef8808d62ed9ac5286ec0796   \n",
       "\n",
       "       review_score review_comment_title review_comment_message  \\\n",
       "6796              5                                               \n",
       "73794             5                                               \n",
       "\n",
       "      review_creation_date review_answer_timestamp  \n",
       "6796   2017-04-14 00:00:00     2017-04-16 19:41:32  \n",
       "73794  2017-04-20 00:00:00     2017-04-23 11:14:56  "
      ]
     },
     "execution_count": 31,
     "metadata": {},
     "output_type": "execute_result"
    }
   ],
   "source": [
    "df_reviews.loc[df_reviews[\"order_id\"]==\"aa20064eef8808d62ed9ac5286ec0796\",:]"
   ]
  },
  {
   "cell_type": "markdown",
   "metadata": {},
   "source": [
    "## 1.3 Gestion des types de données"
   ]
  },
  {
   "cell_type": "markdown",
   "metadata": {},
   "source": [
    "### 1.3.1 COnversion des typestamp"
   ]
  },
  {
   "cell_type": "code",
   "execution_count": 37,
   "metadata": {},
   "outputs": [
    {
     "data": {
      "text/plain": [
       "Index(['review_id', 'order_id', 'review_score', 'review_comment_title',\n",
       "       'review_comment_message', 'review_creation_date',\n",
       "       'review_answer_timestamp'],\n",
       "      dtype='object')"
      ]
     },
     "execution_count": 37,
     "metadata": {},
     "output_type": "execute_result"
    }
   ],
   "source": [
    "df_reviews.columns"
   ]
  },
  {
   "cell_type": "code",
   "execution_count": 63,
   "metadata": {},
   "outputs": [],
   "source": [
    "df_reviews.review_creation_date = pd.to_datetime(df_reviews['review_creation_date'], format= '%Y-%m-%d %H:%M:%S', errors=\"coerce\")"
   ]
  },
  {
   "cell_type": "code",
   "execution_count": 64,
   "metadata": {},
   "outputs": [],
   "source": [
    "df_reviews.review_answer_timestamp = pd.to_datetime(df_reviews['review_answer_timestamp'], format= '%Y-%m-%d %H:%M:%S', errors=\"coerce\")"
   ]
  },
  {
   "cell_type": "code",
   "execution_count": 86,
   "metadata": {},
   "outputs": [
    {
     "data": {
      "text/plain": [
       "dtype('<M8[ns]')"
      ]
     },
     "execution_count": 86,
     "metadata": {},
     "output_type": "execute_result"
    }
   ],
   "source": [
    "df_reviews.dtypes['review_creation_date']"
   ]
  },
  {
   "cell_type": "code",
   "execution_count": 87,
   "metadata": {},
   "outputs": [
    {
     "data": {
      "text/plain": [
       "False"
      ]
     },
     "execution_count": 87,
     "metadata": {},
     "output_type": "execute_result"
    }
   ],
   "source": [
    "from numpy import dtype\n",
    "df_reviews.dtypes['review_creation_date'] == dtype('<M8[ns]')\n"
   ]
  },
  {
   "cell_type": "code",
   "execution_count": 65,
   "metadata": {},
   "outputs": [
    {
     "data": {
      "text/html": [
       "<div>\n",
       "<style scoped>\n",
       "    .dataframe tbody tr th:only-of-type {\n",
       "        vertical-align: middle;\n",
       "    }\n",
       "\n",
       "    .dataframe tbody tr th {\n",
       "        vertical-align: top;\n",
       "    }\n",
       "\n",
       "    .dataframe thead th {\n",
       "        text-align: right;\n",
       "    }\n",
       "</style>\n",
       "<table border=\"1\" class=\"dataframe\">\n",
       "  <thead>\n",
       "    <tr style=\"text-align: right;\">\n",
       "      <th></th>\n",
       "      <th>review_id</th>\n",
       "      <th>order_id</th>\n",
       "      <th>review_score</th>\n",
       "      <th>review_comment_title</th>\n",
       "      <th>review_comment_message</th>\n",
       "      <th>review_creation_date</th>\n",
       "      <th>review_answer_timestamp</th>\n",
       "    </tr>\n",
       "  </thead>\n",
       "  <tbody>\n",
       "    <tr>\n",
       "      <th>98405</th>\n",
       "      <td>574ed12dd733e5fa530cfd4bbf39d7c9</td>\n",
       "      <td>2a8c23fee101d4d5662fa670396eb8da</td>\n",
       "      <td>5</td>\n",
       "      <td></td>\n",
       "      <td></td>\n",
       "      <td>2018-07-07</td>\n",
       "      <td>2018-07-14 17:18:30</td>\n",
       "    </tr>\n",
       "    <tr>\n",
       "      <th>98406</th>\n",
       "      <td>f3897127253a9592a73be9bdfdf4ed7a</td>\n",
       "      <td>22ec9f0669f784db00fa86d035cf8602</td>\n",
       "      <td>5</td>\n",
       "      <td></td>\n",
       "      <td></td>\n",
       "      <td>2017-12-09</td>\n",
       "      <td>2017-12-11 20:06:42</td>\n",
       "    </tr>\n",
       "    <tr>\n",
       "      <th>98407</th>\n",
       "      <td>b3de70c89b1510c4cd3d0649fd302472</td>\n",
       "      <td>55d4004744368f5571d1f590031933e4</td>\n",
       "      <td>5</td>\n",
       "      <td></td>\n",
       "      <td>Excelente mochila, entrega super rápida. Super...</td>\n",
       "      <td>2018-03-22</td>\n",
       "      <td>2018-03-23 09:10:43</td>\n",
       "    </tr>\n",
       "    <tr>\n",
       "      <th>98408</th>\n",
       "      <td>1adeb9d84d72fe4e337617733eb85149</td>\n",
       "      <td>7725825d039fc1f0ceb7635e3f7d9206</td>\n",
       "      <td>4</td>\n",
       "      <td></td>\n",
       "      <td></td>\n",
       "      <td>2018-07-01</td>\n",
       "      <td>2018-07-02 12:59:13</td>\n",
       "    </tr>\n",
       "    <tr>\n",
       "      <th>98409</th>\n",
       "      <td>efe49f1d6f951dd88b51e6ccd4cc548f</td>\n",
       "      <td>90531360ecb1eec2a1fbb265a0db0508</td>\n",
       "      <td>1</td>\n",
       "      <td></td>\n",
       "      <td>meu produto chegou e ja tenho que devolver, po...</td>\n",
       "      <td>2017-07-03</td>\n",
       "      <td>2017-07-03 21:01:49</td>\n",
       "    </tr>\n",
       "  </tbody>\n",
       "</table>\n",
       "</div>"
      ],
      "text/plain": [
       "                              review_id                          order_id  \\\n",
       "98405  574ed12dd733e5fa530cfd4bbf39d7c9  2a8c23fee101d4d5662fa670396eb8da   \n",
       "98406  f3897127253a9592a73be9bdfdf4ed7a  22ec9f0669f784db00fa86d035cf8602   \n",
       "98407  b3de70c89b1510c4cd3d0649fd302472  55d4004744368f5571d1f590031933e4   \n",
       "98408  1adeb9d84d72fe4e337617733eb85149  7725825d039fc1f0ceb7635e3f7d9206   \n",
       "98409  efe49f1d6f951dd88b51e6ccd4cc548f  90531360ecb1eec2a1fbb265a0db0508   \n",
       "\n",
       "       review_score review_comment_title  \\\n",
       "98405             5                        \n",
       "98406             5                        \n",
       "98407             5                        \n",
       "98408             4                        \n",
       "98409             1                        \n",
       "\n",
       "                                  review_comment_message review_creation_date  \\\n",
       "98405                                                              2018-07-07   \n",
       "98406                                                              2017-12-09   \n",
       "98407  Excelente mochila, entrega super rápida. Super...           2018-03-22   \n",
       "98408                                                              2018-07-01   \n",
       "98409  meu produto chegou e ja tenho que devolver, po...           2017-07-03   \n",
       "\n",
       "      review_answer_timestamp  \n",
       "98405     2018-07-14 17:18:30  \n",
       "98406     2017-12-11 20:06:42  \n",
       "98407     2018-03-23 09:10:43  \n",
       "98408     2018-07-02 12:59:13  \n",
       "98409     2017-07-03 21:01:49  "
      ]
     },
     "execution_count": 65,
     "metadata": {},
     "output_type": "execute_result"
    }
   ],
   "source": [
    "df_reviews.tail()"
   ]
  },
  {
   "cell_type": "code",
   "execution_count": 66,
   "metadata": {},
   "outputs": [
    {
     "data": {
      "text/plain": [
       "(98371, 7)"
      ]
     },
     "execution_count": 66,
     "metadata": {},
     "output_type": "execute_result"
    }
   ],
   "source": [
    "df_reviews.shape"
   ]
  },
  {
   "cell_type": "code",
   "execution_count": 67,
   "metadata": {},
   "outputs": [
    {
     "name": "stdout",
     "output_type": "stream",
     "text": [
      "<class 'pandas.core.frame.DataFrame'>\n",
      "Index: 98371 entries, 0 to 98409\n",
      "Data columns (total 7 columns):\n",
      " #   Column                   Non-Null Count  Dtype         \n",
      "---  ------                   --------------  -----         \n",
      " 0   review_id                98371 non-null  object        \n",
      " 1   order_id                 98371 non-null  object        \n",
      " 2   review_score             98371 non-null  int64         \n",
      " 3   review_comment_title     98371 non-null  object        \n",
      " 4   review_comment_message   98371 non-null  object        \n",
      " 5   review_creation_date     98368 non-null  datetime64[ns]\n",
      " 6   review_answer_timestamp  98344 non-null  datetime64[ns]\n",
      "dtypes: datetime64[ns](2), int64(1), object(4)\n",
      "memory usage: 6.0+ MB\n"
     ]
    }
   ],
   "source": [
    "df_reviews.info()"
   ]
  },
  {
   "cell_type": "markdown",
   "metadata": {},
   "source": [
    "### 1.3.2 Remplacement des dates manquantes"
   ]
  },
  {
   "cell_type": "code",
   "execution_count": 70,
   "metadata": {},
   "outputs": [],
   "source": [
    "df_reviews = df_reviews.dropna(subset=['review_creation_date','review_answer_timestamp'])"
   ]
  },
  {
   "cell_type": "code",
   "execution_count": 71,
   "metadata": {},
   "outputs": [
    {
     "name": "stdout",
     "output_type": "stream",
     "text": [
      "<class 'pandas.core.frame.DataFrame'>\n",
      "Index: 98344 entries, 27 to 98409\n",
      "Data columns (total 7 columns):\n",
      " #   Column                   Non-Null Count  Dtype         \n",
      "---  ------                   --------------  -----         \n",
      " 0   review_id                98344 non-null  object        \n",
      " 1   order_id                 98344 non-null  object        \n",
      " 2   review_score             98344 non-null  int64         \n",
      " 3   review_comment_title     98344 non-null  object        \n",
      " 4   review_comment_message   98344 non-null  object        \n",
      " 5   review_creation_date     98344 non-null  datetime64[ns]\n",
      " 6   review_answer_timestamp  98344 non-null  datetime64[ns]\n",
      "dtypes: datetime64[ns](2), int64(1), object(4)\n",
      "memory usage: 6.0+ MB\n"
     ]
    }
   ],
   "source": [
    "df_reviews.info()"
   ]
  },
  {
   "cell_type": "code",
   "execution_count": 69,
   "metadata": {},
   "outputs": [
    {
     "data": {
      "text/plain": [
       "review_score\n",
       "5    16\n",
       "4     6\n",
       "1     2\n",
       "3     2\n",
       "2     1\n",
       "Name: count, dtype: int64"
      ]
     },
     "execution_count": 69,
     "metadata": {},
     "output_type": "execute_result"
    }
   ],
   "source": [
    "df_reviews.loc[df_reviews['review_answer_timestamp'].isna(),:]['review_score'].value_counts()"
   ]
  },
  {
   "cell_type": "markdown",
   "metadata": {},
   "source": [
    "## 1.4 Consistance des données"
   ]
  },
  {
   "cell_type": "code",
   "execution_count": 73,
   "metadata": {},
   "outputs": [
    {
     "data": {
      "text/plain": [
       "review_score\n",
       "5    56866\n",
       "4    18993\n",
       "1    11277\n",
       "3     8095\n",
       "2     3113\n",
       "Name: count, dtype: int64"
      ]
     },
     "execution_count": 73,
     "metadata": {},
     "output_type": "execute_result"
    }
   ],
   "source": [
    "df_reviews['review_score'].value_counts()"
   ]
  },
  {
   "cell_type": "markdown",
   "metadata": {},
   "source": [
    "# 2 Jointure et nettoyage de la table Orders"
   ]
  },
  {
   "cell_type": "code",
   "execution_count": 2,
   "metadata": {},
   "outputs": [],
   "source": [
    "connection = sqlite3.connect(\"olist.db\")\n",
    "\n",
    "df_reviews = pd.read_sql_query(\"SELECT * FROM ReviewsClean\",connection)\n",
    "\n",
    "df_orders = pd.read_sql_query(\"SELECT * FROM Orders\",connection)\n",
    "\n",
    "connection.close()\n"
   ]
  },
  {
   "cell_type": "code",
   "execution_count": 4,
   "metadata": {},
   "outputs": [],
   "source": [
    "df = df_reviews.merge(df_orders, how='left', on ='order_id')"
   ]
  },
  {
   "cell_type": "code",
   "execution_count": 5,
   "metadata": {},
   "outputs": [
    {
     "name": "stdout",
     "output_type": "stream",
     "text": [
      "<class 'pandas.core.frame.DataFrame'>\n",
      "RangeIndex: 98344 entries, 0 to 98343\n",
      "Data columns (total 14 columns):\n",
      " #   Column                         Non-Null Count  Dtype \n",
      "---  ------                         --------------  ----- \n",
      " 0   review_id                      98344 non-null  object\n",
      " 1   order_id                       98344 non-null  object\n",
      " 2   review_score                   98344 non-null  int64 \n",
      " 3   review_comment_title           98344 non-null  object\n",
      " 4   review_comment_message         98344 non-null  object\n",
      " 5   review_creation_date           98344 non-null  object\n",
      " 6   review_answer_timestamp        98344 non-null  object\n",
      " 7   customer_id                    98344 non-null  object\n",
      " 8   order_status                   98344 non-null  object\n",
      " 9   order_purchase_timestamp       98344 non-null  object\n",
      " 10  order_approved_at              98344 non-null  object\n",
      " 11  order_delivered_carrier_date   98344 non-null  object\n",
      " 12  order_delivered_customer_date  98344 non-null  object\n",
      " 13  order_estimated_delivery_date  98344 non-null  object\n",
      "dtypes: int64(1), object(13)\n",
      "memory usage: 10.5+ MB\n"
     ]
    }
   ],
   "source": [
    "df.info()"
   ]
  },
  {
   "cell_type": "code",
   "execution_count": 6,
   "metadata": {},
   "outputs": [
    {
     "data": {
      "text/html": [
       "<div>\n",
       "<style scoped>\n",
       "    .dataframe tbody tr th:only-of-type {\n",
       "        vertical-align: middle;\n",
       "    }\n",
       "\n",
       "    .dataframe tbody tr th {\n",
       "        vertical-align: top;\n",
       "    }\n",
       "\n",
       "    .dataframe thead th {\n",
       "        text-align: right;\n",
       "    }\n",
       "</style>\n",
       "<table border=\"1\" class=\"dataframe\">\n",
       "  <thead>\n",
       "    <tr style=\"text-align: right;\">\n",
       "      <th></th>\n",
       "      <th>review_id</th>\n",
       "      <th>order_id</th>\n",
       "      <th>review_score</th>\n",
       "      <th>review_comment_title</th>\n",
       "      <th>review_comment_message</th>\n",
       "      <th>review_creation_date</th>\n",
       "      <th>review_answer_timestamp</th>\n",
       "      <th>customer_id</th>\n",
       "      <th>order_status</th>\n",
       "      <th>order_purchase_timestamp</th>\n",
       "      <th>order_approved_at</th>\n",
       "      <th>order_delivered_carrier_date</th>\n",
       "      <th>order_delivered_customer_date</th>\n",
       "      <th>order_estimated_delivery_date</th>\n",
       "    </tr>\n",
       "  </thead>\n",
       "  <tbody>\n",
       "    <tr>\n",
       "      <th>0</th>\n",
       "      <td>fe3db7c069d694bab50cc43463f91608</td>\n",
       "      <td>2ca73e2ff9e3a186ad1e1ffb9b1d9c10</td>\n",
       "      <td>5</td>\n",
       "      <td></td>\n",
       "      <td>A compra foi realizada facilmente.\\r\\nA entreg...</td>\n",
       "      <td>2018-03-23 00:00:00</td>\n",
       "      <td>2018-04-01 00:27:51</td>\n",
       "      <td>e76f777f29e83b393d786accf49e7955</td>\n",
       "      <td>delivered</td>\n",
       "      <td>2018-03-18 21:01:32</td>\n",
       "      <td>2018-03-18 21:15:36</td>\n",
       "      <td>2018-03-19 19:52:47</td>\n",
       "      <td>2018-03-23 00:32:34</td>\n",
       "      <td>2018-04-11 00:00:00</td>\n",
       "    </tr>\n",
       "    <tr>\n",
       "      <th>1</th>\n",
       "      <td>e07eee7ad7666276bd8b27fbd83fd1ff</td>\n",
       "      <td>68b3cbc68e4cd1fe19bec35f1d3bb7ee</td>\n",
       "      <td>5</td>\n",
       "      <td></td>\n",
       "      <td>relógio muito bonito e barato.</td>\n",
       "      <td>2018-03-29 00:00:00</td>\n",
       "      <td>2018-04-02 14:19:31</td>\n",
       "      <td>1a814d4c8923ef3a0e978777f00b717c</td>\n",
       "      <td>delivered</td>\n",
       "      <td>2018-03-10 00:42:20</td>\n",
       "      <td>2018-03-10 01:21:04</td>\n",
       "      <td>2018-03-12 21:05:34</td>\n",
       "      <td>2018-03-28 18:13:06</td>\n",
       "      <td>2018-03-29 00:00:00</td>\n",
       "    </tr>\n",
       "    <tr>\n",
       "      <th>2</th>\n",
       "      <td>2c5e27fc178bde7ac173c9c62c31b070</td>\n",
       "      <td>0ce9a24111d850192a933fcaab6fbad3</td>\n",
       "      <td>1</td>\n",
       "      <td></td>\n",
       "      <td>Não gostei ! Comprei gato por lebre</td>\n",
       "      <td>2017-12-13 00:00:00</td>\n",
       "      <td>2017-12-16 07:14:07</td>\n",
       "      <td>5bb8de60ca2ca8b01a5ce471802fe10b</td>\n",
       "      <td>delivered</td>\n",
       "      <td>2017-11-24 01:40:48</td>\n",
       "      <td>2017-11-24 01:49:34</td>\n",
       "      <td>2017-12-06 15:19:09</td>\n",
       "      <td>2017-12-13 00:28:44</td>\n",
       "      <td>2017-12-19 00:00:00</td>\n",
       "    </tr>\n",
       "    <tr>\n",
       "      <th>3</th>\n",
       "      <td>540e7bbb2d06cfb7f85f3a88ba7ac97f</td>\n",
       "      <td>cf73e2cb1f4a9480ed70c154da3d954a</td>\n",
       "      <td>5</td>\n",
       "      <td></td>\n",
       "      <td></td>\n",
       "      <td>2018-01-18 00:00:00</td>\n",
       "      <td>2018-01-18 19:12:30</td>\n",
       "      <td>ef1ed1347404166e73e8f3977ffcbca0</td>\n",
       "      <td>delivered</td>\n",
       "      <td>2018-01-11 11:23:09</td>\n",
       "      <td>2018-01-12 02:38:33</td>\n",
       "      <td>2018-01-13 01:07:00</td>\n",
       "      <td>2018-01-17 14:36:38</td>\n",
       "      <td>2018-02-01 00:00:00</td>\n",
       "    </tr>\n",
       "    <tr>\n",
       "      <th>4</th>\n",
       "      <td>6a18a4001ae7fd911b3b9fb13686d105</td>\n",
       "      <td>8ba3f3a9292fbc22a8b7dff752bbcd37</td>\n",
       "      <td>5</td>\n",
       "      <td></td>\n",
       "      <td></td>\n",
       "      <td>2017-07-19 00:00:00</td>\n",
       "      <td>2017-07-20 10:38:48</td>\n",
       "      <td>0315a87fba4dab4865f2071777b98e87</td>\n",
       "      <td>delivered</td>\n",
       "      <td>2017-07-07 10:07:16</td>\n",
       "      <td>2017-07-07 10:23:34</td>\n",
       "      <td>2017-07-08 11:46:44</td>\n",
       "      <td>2017-07-18 23:16:44</td>\n",
       "      <td>2017-07-31 00:00:00</td>\n",
       "    </tr>\n",
       "  </tbody>\n",
       "</table>\n",
       "</div>"
      ],
      "text/plain": [
       "                          review_id                          order_id  \\\n",
       "0  fe3db7c069d694bab50cc43463f91608  2ca73e2ff9e3a186ad1e1ffb9b1d9c10   \n",
       "1  e07eee7ad7666276bd8b27fbd83fd1ff  68b3cbc68e4cd1fe19bec35f1d3bb7ee   \n",
       "2  2c5e27fc178bde7ac173c9c62c31b070  0ce9a24111d850192a933fcaab6fbad3   \n",
       "3  540e7bbb2d06cfb7f85f3a88ba7ac97f  cf73e2cb1f4a9480ed70c154da3d954a   \n",
       "4  6a18a4001ae7fd911b3b9fb13686d105  8ba3f3a9292fbc22a8b7dff752bbcd37   \n",
       "\n",
       "   review_score review_comment_title  \\\n",
       "0             5                        \n",
       "1             5                        \n",
       "2             1                        \n",
       "3             5                        \n",
       "4             5                        \n",
       "\n",
       "                              review_comment_message review_creation_date  \\\n",
       "0  A compra foi realizada facilmente.\\r\\nA entreg...  2018-03-23 00:00:00   \n",
       "1                     relógio muito bonito e barato.  2018-03-29 00:00:00   \n",
       "2                Não gostei ! Comprei gato por lebre  2017-12-13 00:00:00   \n",
       "3                                                     2018-01-18 00:00:00   \n",
       "4                                                     2017-07-19 00:00:00   \n",
       "\n",
       "  review_answer_timestamp                       customer_id order_status  \\\n",
       "0     2018-04-01 00:27:51  e76f777f29e83b393d786accf49e7955    delivered   \n",
       "1     2018-04-02 14:19:31  1a814d4c8923ef3a0e978777f00b717c    delivered   \n",
       "2     2017-12-16 07:14:07  5bb8de60ca2ca8b01a5ce471802fe10b    delivered   \n",
       "3     2018-01-18 19:12:30  ef1ed1347404166e73e8f3977ffcbca0    delivered   \n",
       "4     2017-07-20 10:38:48  0315a87fba4dab4865f2071777b98e87    delivered   \n",
       "\n",
       "  order_purchase_timestamp    order_approved_at order_delivered_carrier_date  \\\n",
       "0      2018-03-18 21:01:32  2018-03-18 21:15:36          2018-03-19 19:52:47   \n",
       "1      2018-03-10 00:42:20  2018-03-10 01:21:04          2018-03-12 21:05:34   \n",
       "2      2017-11-24 01:40:48  2017-11-24 01:49:34          2017-12-06 15:19:09   \n",
       "3      2018-01-11 11:23:09  2018-01-12 02:38:33          2018-01-13 01:07:00   \n",
       "4      2017-07-07 10:07:16  2017-07-07 10:23:34          2017-07-08 11:46:44   \n",
       "\n",
       "  order_delivered_customer_date order_estimated_delivery_date  \n",
       "0           2018-03-23 00:32:34           2018-04-11 00:00:00  \n",
       "1           2018-03-28 18:13:06           2018-03-29 00:00:00  \n",
       "2           2017-12-13 00:28:44           2017-12-19 00:00:00  \n",
       "3           2018-01-17 14:36:38           2018-02-01 00:00:00  \n",
       "4           2017-07-18 23:16:44           2017-07-31 00:00:00  "
      ]
     },
     "execution_count": 6,
     "metadata": {},
     "output_type": "execute_result"
    }
   ],
   "source": [
    "df.head()"
   ]
  },
  {
   "cell_type": "code",
   "execution_count": 7,
   "metadata": {},
   "outputs": [
    {
     "data": {
      "text/plain": [
       "order_id\n",
       "0d6cc2219ef268358eac3c49b47abca9    2\n",
       "29f5dd847b7db645b7ce75cc49ddb612    2\n",
       "25cb912c6742e486c6988aaf2c8f221b    2\n",
       "bf593abe2928b23b60cee1ff3471a4dd    2\n",
       "b1e45a9d2437f4116c3ff5de92d2a527    2\n",
       "                                   ..\n",
       "c25915645324f8ebbfa289b765eb6e8b    1\n",
       "19a870c81a3ab57258a090b0976ec5ee    1\n",
       "369d7f9f1c7cf25b5b840af3ddcc105b    1\n",
       "58be617c22afd358984d890ce826e0c9    1\n",
       "90531360ecb1eec2a1fbb265a0db0508    1\n",
       "Name: count, Length: 98140, dtype: int64"
      ]
     },
     "execution_count": 7,
     "metadata": {},
     "output_type": "execute_result"
    }
   ],
   "source": [
    "df.order_id.value_counts()"
   ]
  },
  {
   "cell_type": "markdown",
   "metadata": {},
   "source": [
    "## 2.1 Gestion des valeurs manquantes"
   ]
  },
  {
   "cell_type": "markdown",
   "metadata": {},
   "source": [
    "Pas de NA a priori"
   ]
  },
  {
   "cell_type": "markdown",
   "metadata": {},
   "source": [
    "## 2.2 Gestion des doublons"
   ]
  },
  {
   "cell_type": "markdown",
   "metadata": {},
   "source": [
    "Pas de doublon de ReviewsCLean donc comme on fait un left, on aura pas de doublon dans df"
   ]
  },
  {
   "cell_type": "markdown",
   "metadata": {},
   "source": [
    "## 2.3 Gestion des types"
   ]
  },
  {
   "cell_type": "code",
   "execution_count": 8,
   "metadata": {},
   "outputs": [
    {
     "data": {
      "text/html": [
       "<div>\n",
       "<style scoped>\n",
       "    .dataframe tbody tr th:only-of-type {\n",
       "        vertical-align: middle;\n",
       "    }\n",
       "\n",
       "    .dataframe tbody tr th {\n",
       "        vertical-align: top;\n",
       "    }\n",
       "\n",
       "    .dataframe thead th {\n",
       "        text-align: right;\n",
       "    }\n",
       "</style>\n",
       "<table border=\"1\" class=\"dataframe\">\n",
       "  <thead>\n",
       "    <tr style=\"text-align: right;\">\n",
       "      <th></th>\n",
       "      <th>review_id</th>\n",
       "      <th>order_id</th>\n",
       "      <th>review_score</th>\n",
       "      <th>review_comment_title</th>\n",
       "      <th>review_comment_message</th>\n",
       "      <th>review_creation_date</th>\n",
       "      <th>review_answer_timestamp</th>\n",
       "      <th>customer_id</th>\n",
       "      <th>order_status</th>\n",
       "      <th>order_purchase_timestamp</th>\n",
       "      <th>order_approved_at</th>\n",
       "      <th>order_delivered_carrier_date</th>\n",
       "      <th>order_delivered_customer_date</th>\n",
       "      <th>order_estimated_delivery_date</th>\n",
       "    </tr>\n",
       "  </thead>\n",
       "  <tbody>\n",
       "    <tr>\n",
       "      <th>0</th>\n",
       "      <td>fe3db7c069d694bab50cc43463f91608</td>\n",
       "      <td>2ca73e2ff9e3a186ad1e1ffb9b1d9c10</td>\n",
       "      <td>5</td>\n",
       "      <td></td>\n",
       "      <td>A compra foi realizada facilmente.\\r\\nA entreg...</td>\n",
       "      <td>2018-03-23 00:00:00</td>\n",
       "      <td>2018-04-01 00:27:51</td>\n",
       "      <td>e76f777f29e83b393d786accf49e7955</td>\n",
       "      <td>delivered</td>\n",
       "      <td>2018-03-18 21:01:32</td>\n",
       "      <td>2018-03-18 21:15:36</td>\n",
       "      <td>2018-03-19 19:52:47</td>\n",
       "      <td>2018-03-23 00:32:34</td>\n",
       "      <td>2018-04-11 00:00:00</td>\n",
       "    </tr>\n",
       "    <tr>\n",
       "      <th>1</th>\n",
       "      <td>e07eee7ad7666276bd8b27fbd83fd1ff</td>\n",
       "      <td>68b3cbc68e4cd1fe19bec35f1d3bb7ee</td>\n",
       "      <td>5</td>\n",
       "      <td></td>\n",
       "      <td>relógio muito bonito e barato.</td>\n",
       "      <td>2018-03-29 00:00:00</td>\n",
       "      <td>2018-04-02 14:19:31</td>\n",
       "      <td>1a814d4c8923ef3a0e978777f00b717c</td>\n",
       "      <td>delivered</td>\n",
       "      <td>2018-03-10 00:42:20</td>\n",
       "      <td>2018-03-10 01:21:04</td>\n",
       "      <td>2018-03-12 21:05:34</td>\n",
       "      <td>2018-03-28 18:13:06</td>\n",
       "      <td>2018-03-29 00:00:00</td>\n",
       "    </tr>\n",
       "    <tr>\n",
       "      <th>2</th>\n",
       "      <td>2c5e27fc178bde7ac173c9c62c31b070</td>\n",
       "      <td>0ce9a24111d850192a933fcaab6fbad3</td>\n",
       "      <td>1</td>\n",
       "      <td></td>\n",
       "      <td>Não gostei ! Comprei gato por lebre</td>\n",
       "      <td>2017-12-13 00:00:00</td>\n",
       "      <td>2017-12-16 07:14:07</td>\n",
       "      <td>5bb8de60ca2ca8b01a5ce471802fe10b</td>\n",
       "      <td>delivered</td>\n",
       "      <td>2017-11-24 01:40:48</td>\n",
       "      <td>2017-11-24 01:49:34</td>\n",
       "      <td>2017-12-06 15:19:09</td>\n",
       "      <td>2017-12-13 00:28:44</td>\n",
       "      <td>2017-12-19 00:00:00</td>\n",
       "    </tr>\n",
       "    <tr>\n",
       "      <th>3</th>\n",
       "      <td>540e7bbb2d06cfb7f85f3a88ba7ac97f</td>\n",
       "      <td>cf73e2cb1f4a9480ed70c154da3d954a</td>\n",
       "      <td>5</td>\n",
       "      <td></td>\n",
       "      <td></td>\n",
       "      <td>2018-01-18 00:00:00</td>\n",
       "      <td>2018-01-18 19:12:30</td>\n",
       "      <td>ef1ed1347404166e73e8f3977ffcbca0</td>\n",
       "      <td>delivered</td>\n",
       "      <td>2018-01-11 11:23:09</td>\n",
       "      <td>2018-01-12 02:38:33</td>\n",
       "      <td>2018-01-13 01:07:00</td>\n",
       "      <td>2018-01-17 14:36:38</td>\n",
       "      <td>2018-02-01 00:00:00</td>\n",
       "    </tr>\n",
       "    <tr>\n",
       "      <th>4</th>\n",
       "      <td>6a18a4001ae7fd911b3b9fb13686d105</td>\n",
       "      <td>8ba3f3a9292fbc22a8b7dff752bbcd37</td>\n",
       "      <td>5</td>\n",
       "      <td></td>\n",
       "      <td></td>\n",
       "      <td>2017-07-19 00:00:00</td>\n",
       "      <td>2017-07-20 10:38:48</td>\n",
       "      <td>0315a87fba4dab4865f2071777b98e87</td>\n",
       "      <td>delivered</td>\n",
       "      <td>2017-07-07 10:07:16</td>\n",
       "      <td>2017-07-07 10:23:34</td>\n",
       "      <td>2017-07-08 11:46:44</td>\n",
       "      <td>2017-07-18 23:16:44</td>\n",
       "      <td>2017-07-31 00:00:00</td>\n",
       "    </tr>\n",
       "  </tbody>\n",
       "</table>\n",
       "</div>"
      ],
      "text/plain": [
       "                          review_id                          order_id  \\\n",
       "0  fe3db7c069d694bab50cc43463f91608  2ca73e2ff9e3a186ad1e1ffb9b1d9c10   \n",
       "1  e07eee7ad7666276bd8b27fbd83fd1ff  68b3cbc68e4cd1fe19bec35f1d3bb7ee   \n",
       "2  2c5e27fc178bde7ac173c9c62c31b070  0ce9a24111d850192a933fcaab6fbad3   \n",
       "3  540e7bbb2d06cfb7f85f3a88ba7ac97f  cf73e2cb1f4a9480ed70c154da3d954a   \n",
       "4  6a18a4001ae7fd911b3b9fb13686d105  8ba3f3a9292fbc22a8b7dff752bbcd37   \n",
       "\n",
       "   review_score review_comment_title  \\\n",
       "0             5                        \n",
       "1             5                        \n",
       "2             1                        \n",
       "3             5                        \n",
       "4             5                        \n",
       "\n",
       "                              review_comment_message review_creation_date  \\\n",
       "0  A compra foi realizada facilmente.\\r\\nA entreg...  2018-03-23 00:00:00   \n",
       "1                     relógio muito bonito e barato.  2018-03-29 00:00:00   \n",
       "2                Não gostei ! Comprei gato por lebre  2017-12-13 00:00:00   \n",
       "3                                                     2018-01-18 00:00:00   \n",
       "4                                                     2017-07-19 00:00:00   \n",
       "\n",
       "  review_answer_timestamp                       customer_id order_status  \\\n",
       "0     2018-04-01 00:27:51  e76f777f29e83b393d786accf49e7955    delivered   \n",
       "1     2018-04-02 14:19:31  1a814d4c8923ef3a0e978777f00b717c    delivered   \n",
       "2     2017-12-16 07:14:07  5bb8de60ca2ca8b01a5ce471802fe10b    delivered   \n",
       "3     2018-01-18 19:12:30  ef1ed1347404166e73e8f3977ffcbca0    delivered   \n",
       "4     2017-07-20 10:38:48  0315a87fba4dab4865f2071777b98e87    delivered   \n",
       "\n",
       "  order_purchase_timestamp    order_approved_at order_delivered_carrier_date  \\\n",
       "0      2018-03-18 21:01:32  2018-03-18 21:15:36          2018-03-19 19:52:47   \n",
       "1      2018-03-10 00:42:20  2018-03-10 01:21:04          2018-03-12 21:05:34   \n",
       "2      2017-11-24 01:40:48  2017-11-24 01:49:34          2017-12-06 15:19:09   \n",
       "3      2018-01-11 11:23:09  2018-01-12 02:38:33          2018-01-13 01:07:00   \n",
       "4      2017-07-07 10:07:16  2017-07-07 10:23:34          2017-07-08 11:46:44   \n",
       "\n",
       "  order_delivered_customer_date order_estimated_delivery_date  \n",
       "0           2018-03-23 00:32:34           2018-04-11 00:00:00  \n",
       "1           2018-03-28 18:13:06           2018-03-29 00:00:00  \n",
       "2           2017-12-13 00:28:44           2017-12-19 00:00:00  \n",
       "3           2018-01-17 14:36:38           2018-02-01 00:00:00  \n",
       "4           2017-07-18 23:16:44           2017-07-31 00:00:00  "
      ]
     },
     "execution_count": 8,
     "metadata": {},
     "output_type": "execute_result"
    }
   ],
   "source": [
    "df.head()"
   ]
  },
  {
   "cell_type": "code",
   "execution_count": 9,
   "metadata": {},
   "outputs": [],
   "source": [
    "df.order_purchase_timestamp = pd.to_datetime(df['order_purchase_timestamp'], \n",
    "                                            format= '%Y-%m-%d %H:%M:%S', \n",
    "                                            errors=\"coerce\")\n",
    "\n",
    "df.order_delivered_customer_date = pd.to_datetime(df['order_delivered_customer_date'], \n",
    "                                                  format= '%Y-%m-%d %H:%M:%S', \n",
    "                                                  errors=\"coerce\")\n",
    "\n",
    "df.order_estimated_delivery_date = pd.to_datetime(df['order_estimated_delivery_date'], \n",
    "                                                  format= '%Y-%m-%d %H:%M:%S', \n",
    "                                                  errors=\"coerce\")\n"
   ]
  },
  {
   "cell_type": "code",
   "execution_count": 10,
   "metadata": {},
   "outputs": [
    {
     "name": "stdout",
     "output_type": "stream",
     "text": [
      "<class 'pandas.core.frame.DataFrame'>\n",
      "RangeIndex: 98344 entries, 0 to 98343\n",
      "Data columns (total 14 columns):\n",
      " #   Column                         Non-Null Count  Dtype         \n",
      "---  ------                         --------------  -----         \n",
      " 0   review_id                      98344 non-null  object        \n",
      " 1   order_id                       98344 non-null  object        \n",
      " 2   review_score                   98344 non-null  int64         \n",
      " 3   review_comment_title           98344 non-null  object        \n",
      " 4   review_comment_message         98344 non-null  object        \n",
      " 5   review_creation_date           98344 non-null  object        \n",
      " 6   review_answer_timestamp        98344 non-null  object        \n",
      " 7   customer_id                    98344 non-null  object        \n",
      " 8   order_status                   98344 non-null  object        \n",
      " 9   order_purchase_timestamp       98344 non-null  datetime64[ns]\n",
      " 10  order_approved_at              98344 non-null  object        \n",
      " 11  order_delivered_carrier_date   98344 non-null  object        \n",
      " 12  order_delivered_customer_date  95542 non-null  datetime64[ns]\n",
      " 13  order_estimated_delivery_date  98344 non-null  datetime64[ns]\n",
      "dtypes: datetime64[ns](3), int64(1), object(10)\n",
      "memory usage: 10.5+ MB\n"
     ]
    }
   ],
   "source": [
    "df.info()"
   ]
  },
  {
   "cell_type": "code",
   "execution_count": 12,
   "metadata": {},
   "outputs": [
    {
     "data": {
      "text/html": [
       "<div>\n",
       "<style scoped>\n",
       "    .dataframe tbody tr th:only-of-type {\n",
       "        vertical-align: middle;\n",
       "    }\n",
       "\n",
       "    .dataframe tbody tr th {\n",
       "        vertical-align: top;\n",
       "    }\n",
       "\n",
       "    .dataframe thead th {\n",
       "        text-align: right;\n",
       "    }\n",
       "</style>\n",
       "<table border=\"1\" class=\"dataframe\">\n",
       "  <thead>\n",
       "    <tr style=\"text-align: right;\">\n",
       "      <th></th>\n",
       "      <th>review_id</th>\n",
       "      <th>order_id</th>\n",
       "      <th>review_score</th>\n",
       "      <th>review_comment_title</th>\n",
       "      <th>review_comment_message</th>\n",
       "      <th>review_creation_date</th>\n",
       "      <th>review_answer_timestamp</th>\n",
       "      <th>customer_id</th>\n",
       "      <th>order_status</th>\n",
       "      <th>order_purchase_timestamp</th>\n",
       "      <th>order_approved_at</th>\n",
       "      <th>order_delivered_carrier_date</th>\n",
       "      <th>order_delivered_customer_date</th>\n",
       "      <th>order_estimated_delivery_date</th>\n",
       "    </tr>\n",
       "  </thead>\n",
       "  <tbody>\n",
       "    <tr>\n",
       "      <th>41</th>\n",
       "      <td>6d06808638ec0701bccd70bc8d462c28</td>\n",
       "      <td>97d2f8fe76f2f253b8291e17b5383884</td>\n",
       "      <td>1</td>\n",
       "      <td></td>\n",
       "      <td>O produto não chegou no prazo estipulado e cau...</td>\n",
       "      <td>2016-12-09 00:00:00</td>\n",
       "      <td>2016-12-19 14:10:43</td>\n",
       "      <td>5458c93e0db88f9b885bc7dbc3bfa2a3</td>\n",
       "      <td>shipped</td>\n",
       "      <td>2016-10-05 11:54:15</td>\n",
       "      <td>2016-10-06 15:51:26</td>\n",
       "      <td>2016-11-14 09:28:51</td>\n",
       "      <td>NaT</td>\n",
       "      <td>2016-12-07</td>\n",
       "    </tr>\n",
       "    <tr>\n",
       "      <th>62</th>\n",
       "      <td>65dfeb60c40e3cbb0a1838285d86f885</td>\n",
       "      <td>a2714ecbf6eeb3bb9cd7dba6dc1c5e82</td>\n",
       "      <td>1</td>\n",
       "      <td></td>\n",
       "      <td>Pedi reembolso e sem resposta até momento</td>\n",
       "      <td>2018-03-08 00:00:00</td>\n",
       "      <td>2018-03-08 12:27:34</td>\n",
       "      <td>5fe0562353e8f0b6c0c6b55cd0f58fe0</td>\n",
       "      <td>canceled</td>\n",
       "      <td>2018-02-14 18:01:38</td>\n",
       "      <td>2018-02-14 18:20:40</td>\n",
       "      <td>2018-02-15 17:27:27</td>\n",
       "      <td>NaT</td>\n",
       "      <td>2018-03-06</td>\n",
       "    </tr>\n",
       "    <tr>\n",
       "      <th>77</th>\n",
       "      <td>352609f0f2d34ce5d3b8de817ee948d5</td>\n",
       "      <td>96b947c986b42f213c9e6b8ccccedb89</td>\n",
       "      <td>3</td>\n",
       "      <td>Não recebi o produto.</td>\n",
       "      <td></td>\n",
       "      <td>2018-08-25 00:00:00</td>\n",
       "      <td>2018-08-25 20:53:41</td>\n",
       "      <td>0be97ebc9313a86e02d3b7cdd7e5f1a6</td>\n",
       "      <td>canceled</td>\n",
       "      <td>2018-07-30 13:00:56</td>\n",
       "      <td>2018-07-31 03:55:23</td>\n",
       "      <td></td>\n",
       "      <td>NaT</td>\n",
       "      <td>2018-08-22</td>\n",
       "    </tr>\n",
       "    <tr>\n",
       "      <th>142</th>\n",
       "      <td>185cb85ede91009d7a8e685687c037ee</td>\n",
       "      <td>2e5dc86c8c4aa663549caf5e31de840d</td>\n",
       "      <td>1</td>\n",
       "      <td></td>\n",
       "      <td>fiz minha compra faz 30 dias e não recebi aind...</td>\n",
       "      <td>2017-04-06 00:00:00</td>\n",
       "      <td>2017-04-09 18:25:12</td>\n",
       "      <td>6225eed02b7d1a110b6e5b5dd4c8bd31</td>\n",
       "      <td>processing</td>\n",
       "      <td>2017-02-03 00:04:49</td>\n",
       "      <td>2017-04-04 10:56:48</td>\n",
       "      <td></td>\n",
       "      <td>NaT</td>\n",
       "      <td>2017-03-31</td>\n",
       "    </tr>\n",
       "    <tr>\n",
       "      <th>143</th>\n",
       "      <td>0c9b6ca9b3beaf0fd5d621f63844ea01</td>\n",
       "      <td>cadd4c5765abf658117f2cc7e2a639c2</td>\n",
       "      <td>5</td>\n",
       "      <td>prazo entrega</td>\n",
       "      <td>Espero receber esta semana, o que não seria tã...</td>\n",
       "      <td>2018-08-26 00:00:00</td>\n",
       "      <td>2018-08-29 02:48:21</td>\n",
       "      <td>939c6ecf27d8c32e7956b4a2a468326d</td>\n",
       "      <td>canceled</td>\n",
       "      <td>2018-08-10 21:20:04</td>\n",
       "      <td>2018-08-10 21:30:18</td>\n",
       "      <td></td>\n",
       "      <td>NaT</td>\n",
       "      <td>2018-08-24</td>\n",
       "    </tr>\n",
       "    <tr>\n",
       "      <th>...</th>\n",
       "      <td>...</td>\n",
       "      <td>...</td>\n",
       "      <td>...</td>\n",
       "      <td>...</td>\n",
       "      <td>...</td>\n",
       "      <td>...</td>\n",
       "      <td>...</td>\n",
       "      <td>...</td>\n",
       "      <td>...</td>\n",
       "      <td>...</td>\n",
       "      <td>...</td>\n",
       "      <td>...</td>\n",
       "      <td>...</td>\n",
       "      <td>...</td>\n",
       "    </tr>\n",
       "    <tr>\n",
       "      <th>98167</th>\n",
       "      <td>e1bc9e2f33c3fa1cb40845c285f0c02b</td>\n",
       "      <td>dd359d3c294458c6d642b2eea9212bf5</td>\n",
       "      <td>2</td>\n",
       "      <td></td>\n",
       "      <td>Já comprei várias vezes no site \"lannister\";ma...</td>\n",
       "      <td>2016-11-27 00:00:00</td>\n",
       "      <td>2016-11-29 14:19:59</td>\n",
       "      <td>5c58d1ea5a893380ecdd96dd6dfd5ec5</td>\n",
       "      <td>invoiced</td>\n",
       "      <td>2016-10-04 13:02:10</td>\n",
       "      <td>2016-10-05 03:08:27</td>\n",
       "      <td></td>\n",
       "      <td>NaT</td>\n",
       "      <td>2016-11-24</td>\n",
       "    </tr>\n",
       "    <tr>\n",
       "      <th>98168</th>\n",
       "      <td>71fd2bd9edec8a1cd368a5fa173979d6</td>\n",
       "      <td>4a5cf649e3eb500fc079aace5f03583e</td>\n",
       "      <td>1</td>\n",
       "      <td></td>\n",
       "      <td>Não cumpriu o prazo.. Não teve capacidade para...</td>\n",
       "      <td>2018-03-30 00:00:00</td>\n",
       "      <td>2018-03-30 21:52:35</td>\n",
       "      <td>128433c9283a98b6eddefd309edc7e00</td>\n",
       "      <td>unavailable</td>\n",
       "      <td>2018-03-05 14:37:40</td>\n",
       "      <td>2018-03-05 14:55:39</td>\n",
       "      <td></td>\n",
       "      <td>NaT</td>\n",
       "      <td>2018-03-28</td>\n",
       "    </tr>\n",
       "    <tr>\n",
       "      <th>98278</th>\n",
       "      <td>2fc8295a24978092328d3a329d22940e</td>\n",
       "      <td>e809c167a9cfd31aee1293abe8995065</td>\n",
       "      <td>1</td>\n",
       "      <td></td>\n",
       "      <td>Eu recebi o seguinte email e preciso saber com...</td>\n",
       "      <td>2018-02-09 00:00:00</td>\n",
       "      <td>2018-02-13 13:03:24</td>\n",
       "      <td>9472f9fca02c86c72be6429983d0a76a</td>\n",
       "      <td>processing</td>\n",
       "      <td>2018-01-04 18:23:45</td>\n",
       "      <td>2018-01-06 02:08:26</td>\n",
       "      <td></td>\n",
       "      <td>NaT</td>\n",
       "      <td>2018-02-05</td>\n",
       "    </tr>\n",
       "    <tr>\n",
       "      <th>98293</th>\n",
       "      <td>314d2e4c14be2030c24c3f29ff3740a7</td>\n",
       "      <td>e3c4b2d7022588a02583a79b3f405632</td>\n",
       "      <td>5</td>\n",
       "      <td></td>\n",
       "      <td>Satisfeita</td>\n",
       "      <td>2017-04-22 00:00:00</td>\n",
       "      <td>2017-04-22 10:38:17</td>\n",
       "      <td>ffb81db92e7ac00ecfac978f673be8a6</td>\n",
       "      <td>shipped</td>\n",
       "      <td>2017-03-17 21:14:36</td>\n",
       "      <td>2017-03-17 21:14:36</td>\n",
       "      <td>2017-03-20 09:49:10</td>\n",
       "      <td>NaT</td>\n",
       "      <td>2017-04-20</td>\n",
       "    </tr>\n",
       "    <tr>\n",
       "      <th>98332</th>\n",
       "      <td>3ea12859f456855149b564d1a221f87a</td>\n",
       "      <td>f62f01ec64c6b221f926ba560907d8f7</td>\n",
       "      <td>3</td>\n",
       "      <td></td>\n",
       "      <td></td>\n",
       "      <td>2017-04-05 00:00:00</td>\n",
       "      <td>2017-04-05 09:42:58</td>\n",
       "      <td>a35ef57cd99a99e77e58316ab0cc2927</td>\n",
       "      <td>unavailable</td>\n",
       "      <td>2017-02-14 20:55:49</td>\n",
       "      <td>2017-02-14 21:05:27</td>\n",
       "      <td></td>\n",
       "      <td>NaT</td>\n",
       "      <td>2017-04-03</td>\n",
       "    </tr>\n",
       "  </tbody>\n",
       "</table>\n",
       "<p>2802 rows × 14 columns</p>\n",
       "</div>"
      ],
      "text/plain": [
       "                              review_id                          order_id  \\\n",
       "41     6d06808638ec0701bccd70bc8d462c28  97d2f8fe76f2f253b8291e17b5383884   \n",
       "62     65dfeb60c40e3cbb0a1838285d86f885  a2714ecbf6eeb3bb9cd7dba6dc1c5e82   \n",
       "77     352609f0f2d34ce5d3b8de817ee948d5  96b947c986b42f213c9e6b8ccccedb89   \n",
       "142    185cb85ede91009d7a8e685687c037ee  2e5dc86c8c4aa663549caf5e31de840d   \n",
       "143    0c9b6ca9b3beaf0fd5d621f63844ea01  cadd4c5765abf658117f2cc7e2a639c2   \n",
       "...                                 ...                               ...   \n",
       "98167  e1bc9e2f33c3fa1cb40845c285f0c02b  dd359d3c294458c6d642b2eea9212bf5   \n",
       "98168  71fd2bd9edec8a1cd368a5fa173979d6  4a5cf649e3eb500fc079aace5f03583e   \n",
       "98278  2fc8295a24978092328d3a329d22940e  e809c167a9cfd31aee1293abe8995065   \n",
       "98293  314d2e4c14be2030c24c3f29ff3740a7  e3c4b2d7022588a02583a79b3f405632   \n",
       "98332  3ea12859f456855149b564d1a221f87a  f62f01ec64c6b221f926ba560907d8f7   \n",
       "\n",
       "       review_score   review_comment_title  \\\n",
       "41                1                          \n",
       "62                1                          \n",
       "77                3  Não recebi o produto.   \n",
       "142               1                          \n",
       "143               5          prazo entrega   \n",
       "...             ...                    ...   \n",
       "98167             2                          \n",
       "98168             1                          \n",
       "98278             1                          \n",
       "98293             5                          \n",
       "98332             3                          \n",
       "\n",
       "                                  review_comment_message review_creation_date  \\\n",
       "41     O produto não chegou no prazo estipulado e cau...  2016-12-09 00:00:00   \n",
       "62            Pedi reembolso e sem resposta até momento   2018-03-08 00:00:00   \n",
       "77                                                        2018-08-25 00:00:00   \n",
       "142    fiz minha compra faz 30 dias e não recebi aind...  2017-04-06 00:00:00   \n",
       "143    Espero receber esta semana, o que não seria tã...  2018-08-26 00:00:00   \n",
       "...                                                  ...                  ...   \n",
       "98167  Já comprei várias vezes no site \"lannister\";ma...  2016-11-27 00:00:00   \n",
       "98168  Não cumpriu o prazo.. Não teve capacidade para...  2018-03-30 00:00:00   \n",
       "98278  Eu recebi o seguinte email e preciso saber com...  2018-02-09 00:00:00   \n",
       "98293                                        Satisfeita   2017-04-22 00:00:00   \n",
       "98332                                                     2017-04-05 00:00:00   \n",
       "\n",
       "      review_answer_timestamp                       customer_id order_status  \\\n",
       "41        2016-12-19 14:10:43  5458c93e0db88f9b885bc7dbc3bfa2a3      shipped   \n",
       "62        2018-03-08 12:27:34  5fe0562353e8f0b6c0c6b55cd0f58fe0     canceled   \n",
       "77        2018-08-25 20:53:41  0be97ebc9313a86e02d3b7cdd7e5f1a6     canceled   \n",
       "142       2017-04-09 18:25:12  6225eed02b7d1a110b6e5b5dd4c8bd31   processing   \n",
       "143       2018-08-29 02:48:21  939c6ecf27d8c32e7956b4a2a468326d     canceled   \n",
       "...                       ...                               ...          ...   \n",
       "98167     2016-11-29 14:19:59  5c58d1ea5a893380ecdd96dd6dfd5ec5     invoiced   \n",
       "98168     2018-03-30 21:52:35  128433c9283a98b6eddefd309edc7e00  unavailable   \n",
       "98278     2018-02-13 13:03:24  9472f9fca02c86c72be6429983d0a76a   processing   \n",
       "98293     2017-04-22 10:38:17  ffb81db92e7ac00ecfac978f673be8a6      shipped   \n",
       "98332     2017-04-05 09:42:58  a35ef57cd99a99e77e58316ab0cc2927  unavailable   \n",
       "\n",
       "      order_purchase_timestamp    order_approved_at  \\\n",
       "41         2016-10-05 11:54:15  2016-10-06 15:51:26   \n",
       "62         2018-02-14 18:01:38  2018-02-14 18:20:40   \n",
       "77         2018-07-30 13:00:56  2018-07-31 03:55:23   \n",
       "142        2017-02-03 00:04:49  2017-04-04 10:56:48   \n",
       "143        2018-08-10 21:20:04  2018-08-10 21:30:18   \n",
       "...                        ...                  ...   \n",
       "98167      2016-10-04 13:02:10  2016-10-05 03:08:27   \n",
       "98168      2018-03-05 14:37:40  2018-03-05 14:55:39   \n",
       "98278      2018-01-04 18:23:45  2018-01-06 02:08:26   \n",
       "98293      2017-03-17 21:14:36  2017-03-17 21:14:36   \n",
       "98332      2017-02-14 20:55:49  2017-02-14 21:05:27   \n",
       "\n",
       "      order_delivered_carrier_date order_delivered_customer_date  \\\n",
       "41             2016-11-14 09:28:51                           NaT   \n",
       "62             2018-02-15 17:27:27                           NaT   \n",
       "77                                                           NaT   \n",
       "142                                                          NaT   \n",
       "143                                                          NaT   \n",
       "...                            ...                           ...   \n",
       "98167                                                        NaT   \n",
       "98168                                                        NaT   \n",
       "98278                                                        NaT   \n",
       "98293          2017-03-20 09:49:10                           NaT   \n",
       "98332                                                        NaT   \n",
       "\n",
       "      order_estimated_delivery_date  \n",
       "41                       2016-12-07  \n",
       "62                       2018-03-06  \n",
       "77                       2018-08-22  \n",
       "142                      2017-03-31  \n",
       "143                      2018-08-24  \n",
       "...                             ...  \n",
       "98167                    2016-11-24  \n",
       "98168                    2018-03-28  \n",
       "98278                    2018-02-05  \n",
       "98293                    2017-04-20  \n",
       "98332                    2017-04-03  \n",
       "\n",
       "[2802 rows x 14 columns]"
      ]
     },
     "execution_count": 12,
     "metadata": {},
     "output_type": "execute_result"
    }
   ],
   "source": [
    "df.loc[df.order_delivered_customer_date.isna(),:]"
   ]
  },
  {
   "cell_type": "code",
   "execution_count": 15,
   "metadata": {},
   "outputs": [
    {
     "data": {
      "text/html": [
       "<div>\n",
       "<style scoped>\n",
       "    .dataframe tbody tr th:only-of-type {\n",
       "        vertical-align: middle;\n",
       "    }\n",
       "\n",
       "    .dataframe tbody tr th {\n",
       "        vertical-align: top;\n",
       "    }\n",
       "\n",
       "    .dataframe thead th {\n",
       "        text-align: right;\n",
       "    }\n",
       "</style>\n",
       "<table border=\"1\" class=\"dataframe\">\n",
       "  <thead>\n",
       "    <tr style=\"text-align: right;\">\n",
       "      <th></th>\n",
       "      <th>order_id</th>\n",
       "      <th>customer_id</th>\n",
       "      <th>order_status</th>\n",
       "      <th>order_purchase_timestamp</th>\n",
       "      <th>order_approved_at</th>\n",
       "      <th>order_delivered_carrier_date</th>\n",
       "      <th>order_delivered_customer_date</th>\n",
       "      <th>order_estimated_delivery_date</th>\n",
       "    </tr>\n",
       "  </thead>\n",
       "  <tbody>\n",
       "    <tr>\n",
       "      <th>58108</th>\n",
       "      <td>cadd4c5765abf658117f2cc7e2a639c2</td>\n",
       "      <td>939c6ecf27d8c32e7956b4a2a468326d</td>\n",
       "      <td>canceled</td>\n",
       "      <td>2018-08-10 21:20:04</td>\n",
       "      <td>2018-08-10 21:30:18</td>\n",
       "      <td></td>\n",
       "      <td></td>\n",
       "      <td>2018-08-24 00:00:00</td>\n",
       "    </tr>\n",
       "  </tbody>\n",
       "</table>\n",
       "</div>"
      ],
      "text/plain": [
       "                               order_id                       customer_id  \\\n",
       "58108  cadd4c5765abf658117f2cc7e2a639c2  939c6ecf27d8c32e7956b4a2a468326d   \n",
       "\n",
       "      order_status order_purchase_timestamp    order_approved_at  \\\n",
       "58108     canceled      2018-08-10 21:20:04  2018-08-10 21:30:18   \n",
       "\n",
       "      order_delivered_carrier_date order_delivered_customer_date  \\\n",
       "58108                                                              \n",
       "\n",
       "      order_estimated_delivery_date  \n",
       "58108           2018-08-24 00:00:00  "
      ]
     },
     "execution_count": 15,
     "metadata": {},
     "output_type": "execute_result"
    }
   ],
   "source": [
    "df_orders.loc[df_orders.order_id == 'cadd4c5765abf658117f2cc7e2a639c2',:]"
   ]
  },
  {
   "cell_type": "markdown",
   "metadata": {},
   "source": [
    "Pour le moment on garde les lignes sans valeur de livraison NA pour pouvoir les identifier dans la suite de l'analyse"
   ]
  }
 ],
 "metadata": {
  "kernelspec": {
   "display_name": "env",
   "language": "python",
   "name": "python3"
  },
  "language_info": {
   "codemirror_mode": {
    "name": "ipython",
    "version": 3
   },
   "file_extension": ".py",
   "mimetype": "text/x-python",
   "name": "python",
   "nbconvert_exporter": "python",
   "pygments_lexer": "ipython3",
   "version": "3.10.10"
  }
 },
 "nbformat": 4,
 "nbformat_minor": 2
}
