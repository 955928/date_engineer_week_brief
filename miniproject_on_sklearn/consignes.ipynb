{
 "cells": [
  {
   "cell_type": "markdown",
   "metadata": {},
   "source": [
    "Variables à construire:\n",
    "\n",
    "Order_status\n",
    "Total des frais de port/livraison\n",
    "Total de la commande\n",
    "Facilité de paiement: un versement ou plusieurs\n",
    "Customer States\n",
    "Seller States\n",
    "Vente locale (customer state = seller state) ou inter-étatique\n",
    "Product detail (photo et description)\n",
    "Premier achat ou client déja existant\n",
    "custumer: group by custumer unique id (Table premier achat)\n",
    "Join cutomer et premier achat (orderpremierachet)\n",
    "Join review et orderpremierachat\n",
    "Category de produit\n",
    "Mois de l’achat, \n",
    "année de l’achat\n",
    "\n",
    "\n",
    "Consignes (On utilise que la régression logistique):\n",
    "Nettoyez, analysez et testez la variable order status pour voir si est meilleure, moins bonne ou complémentaire avec la variable produit reçu\n",
    "Vous allez avoir besoin du transformer OneHotEncoder\n",
    "Testez dans une régression logistique produit_recu et garder le score (deja fait)\n",
    "Ensuite testez dans une régression logistique Order status\n",
    "Ensuite testez avec les deux variables en même temps\n",
    "Gardez le meilleur score\n",
    "Nettoyez, analysez et testez la variable category de produit\n",
    "Nettoyez, analysez et testez les variables total montant de commande et total montant de frais de livraison\n",
    "Nettoyez, analysez et testez la variables “nombre de commande du client”\n",
    "Bonus: Nettoyez, analysez et testez  les autres variables\n",
    "\n",
    "\n"
   ]
  }
 ],
 "metadata": {
  "language_info": {
   "name": "python"
  }
 },
 "nbformat": 4,
 "nbformat_minor": 2
}
