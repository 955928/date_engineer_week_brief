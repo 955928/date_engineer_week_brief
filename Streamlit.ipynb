{
 "cells": [
  {
   "cell_type": "markdown",
   "id": "635c498d-b440-4f76-b570-ec6a6a555c6b",
   "metadata": {},
   "source": [
    "# Streamlit"
   ]
  },
  {
   "cell_type": "markdown",
   "id": "d9f5afa6-0d53-4fcf-91cf-794288ed94d8",
   "metadata": {},
   "source": [
    "# Introduction à Streamlit\n",
    "## Qu'est-ce que Streamlit ?\n",
    "Streamlit est une bibliothèque Python qui permet de créer rapidement des applications web interactives à partir de scripts Python simples.\n",
    "\n",
    "## Pourquoi utiliser Streamlit ?\n",
    "- Facilité d'utilisation : Streamlit permet de créer des applications web avec peu de code.\n",
    "- Réactivité : Les applications sont réactives et se mettent à jour automatiquement lorsque les données changent.\n",
    "- Intégration simple : Il est facile d'intégrer des éléments interactifs tels que des graphiques, des widgets, et plus encore.\n",
    "\n",
    "## Installation de Streamlit\n",
    "```bash\n",
    "pip install streamlit"
   ]
  },
  {
   "cell_type": "markdown",
   "id": "f90ee372-9fa7-4875-848f-d7981fa10ca5",
   "metadata": {},
   "source": [
    "## Exemple pratique : Création d'une application web simple avec Streamlit"
   ]
  },
  {
   "cell_type": "code",
   "execution_count": 1,
   "id": "3ba6e198-5dad-4847-8442-1ba87782b39f",
   "metadata": {},
   "outputs": [],
   "source": [
    "# Importation de la bibliothèque\n",
    "import streamlit as st"
   ]
  },
  {
   "cell_type": "code",
   "execution_count": 5,
   "id": "90a3f778-984a-4cae-ae52-75d25e977012",
   "metadata": {},
   "outputs": [],
   "source": [
    "# Titre de l'application\n",
    "st.title(\"Ma Première Application Streamlit\")\n",
    "\n",
    "# Sous-titre\n",
    "st.subheader(\"Bienvenue sur cette première page !\")\n",
    "\n",
    "# Texte explicatif\n",
    "st.write(\"C'est une application simple créée avec Streamlit.\")\n",
    "\n",
    "# Affichage d'une image\n",
    "st.image(\"https://example.com/your-image.jpg\", caption=\"Une image cool\", use_column_width=True)\n",
    "\n",
    "# Ajouter un graphique (exemple avec un graphique à barres aléatoire)\n",
    "import numpy as np\n",
    "import matplotlib.pyplot as plt\n",
    "\n",
    "data = np.random.randn(10, 1)\n",
    "st.bar_chart(data)\n",
    "\n",
    "# Ajouter un widget interactif (exemple avec un curseur)\n",
    "user_input = st.slider(\"Sélectionnez une valeur\", 0, 100, 50)\n",
    "st.write(f\"Vous avez sélectionné : {user_input}\")\n",
    "\n",
    "# Exécutez l'application avec la commande suivante dans une cellule Jupyter Notebook\n",
    "# !streamlit run my_app.py"
   ]
  }
 ],
 "metadata": {
  "kernelspec": {
   "display_name": "Python 3 (ipykernel)",
   "language": "python",
   "name": "python3"
  },
  "language_info": {
   "codemirror_mode": {
    "name": "ipython",
    "version": 3
   },
   "file_extension": ".py",
   "mimetype": "text/x-python",
   "name": "python",
   "nbconvert_exporter": "python",
   "pygments_lexer": "ipython3",
   "version": "3.11.7"
  }
 },
 "nbformat": 4,
 "nbformat_minor": 5
}
