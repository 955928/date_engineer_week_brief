{
 "cells": [
  {
   "cell_type": "code",
   "execution_count": 4,
   "metadata": {},
   "outputs": [],
   "source": [
    "import pandas as pd\n",
    "import sqlite3\n",
    "import matplotlib.pyplot as plt\n",
    "import seaborn as sns"
   ]
  },
  {
   "cell_type": "code",
   "execution_count": 5,
   "metadata": {},
   "outputs": [],
   "source": [
    "connection = sqlite3.connect(\"olist.db\")\n",
    "\n",
    "df_reviews = pd.read_sql_query(\"SELECT * FROM CleanDataset\",connection)\n",
    "\n",
    "connection.close()"
   ]
  },
  {
   "cell_type": "code",
   "execution_count": 3,
   "metadata": {},
   "outputs": [
    {
     "data": {
      "text/html": [
       "<div>\n",
       "<style scoped>\n",
       "    .dataframe tbody tr th:only-of-type {\n",
       "        vertical-align: middle;\n",
       "    }\n",
       "\n",
       "    .dataframe tbody tr th {\n",
       "        vertical-align: top;\n",
       "    }\n",
       "\n",
       "    .dataframe thead th {\n",
       "        text-align: right;\n",
       "    }\n",
       "</style>\n",
       "<table border=\"1\" class=\"dataframe\">\n",
       "  <thead>\n",
       "    <tr style=\"text-align: right;\">\n",
       "      <th></th>\n",
       "      <th>review_id</th>\n",
       "      <th>order_id</th>\n",
       "      <th>review_score</th>\n",
       "      <th>review_comment_title</th>\n",
       "      <th>review_comment_message</th>\n",
       "      <th>review_creation_date</th>\n",
       "      <th>review_answer_timestamp</th>\n",
       "    </tr>\n",
       "  </thead>\n",
       "  <tbody>\n",
       "    <tr>\n",
       "      <th>0</th>\n",
       "      <td>fe3db7c069d694bab50cc43463f91608</td>\n",
       "      <td>2ca73e2ff9e3a186ad1e1ffb9b1d9c10</td>\n",
       "      <td>5</td>\n",
       "      <td></td>\n",
       "      <td>A compra foi realizada facilmente.\\r\\nA entreg...</td>\n",
       "      <td>2018-03-23 00:00:00</td>\n",
       "      <td>2018-04-01 00:27:51</td>\n",
       "    </tr>\n",
       "    <tr>\n",
       "      <th>1</th>\n",
       "      <td>e07eee7ad7666276bd8b27fbd83fd1ff</td>\n",
       "      <td>68b3cbc68e4cd1fe19bec35f1d3bb7ee</td>\n",
       "      <td>5</td>\n",
       "      <td></td>\n",
       "      <td>relógio muito bonito e barato.</td>\n",
       "      <td>2018-03-29 00:00:00</td>\n",
       "      <td>2018-04-02 14:19:31</td>\n",
       "    </tr>\n",
       "    <tr>\n",
       "      <th>2</th>\n",
       "      <td>2c5e27fc178bde7ac173c9c62c31b070</td>\n",
       "      <td>0ce9a24111d850192a933fcaab6fbad3</td>\n",
       "      <td>1</td>\n",
       "      <td></td>\n",
       "      <td>Não gostei ! Comprei gato por lebre</td>\n",
       "      <td>2017-12-13 00:00:00</td>\n",
       "      <td>2017-12-16 07:14:07</td>\n",
       "    </tr>\n",
       "    <tr>\n",
       "      <th>3</th>\n",
       "      <td>540e7bbb2d06cfb7f85f3a88ba7ac97f</td>\n",
       "      <td>cf73e2cb1f4a9480ed70c154da3d954a</td>\n",
       "      <td>5</td>\n",
       "      <td></td>\n",
       "      <td></td>\n",
       "      <td>2018-01-18 00:00:00</td>\n",
       "      <td>2018-01-18 19:12:30</td>\n",
       "    </tr>\n",
       "    <tr>\n",
       "      <th>4</th>\n",
       "      <td>6a18a4001ae7fd911b3b9fb13686d105</td>\n",
       "      <td>8ba3f3a9292fbc22a8b7dff752bbcd37</td>\n",
       "      <td>5</td>\n",
       "      <td></td>\n",
       "      <td></td>\n",
       "      <td>2017-07-19 00:00:00</td>\n",
       "      <td>2017-07-20 10:38:48</td>\n",
       "    </tr>\n",
       "  </tbody>\n",
       "</table>\n",
       "</div>"
      ],
      "text/plain": [
       "                          review_id                          order_id  \\\n",
       "0  fe3db7c069d694bab50cc43463f91608  2ca73e2ff9e3a186ad1e1ffb9b1d9c10   \n",
       "1  e07eee7ad7666276bd8b27fbd83fd1ff  68b3cbc68e4cd1fe19bec35f1d3bb7ee   \n",
       "2  2c5e27fc178bde7ac173c9c62c31b070  0ce9a24111d850192a933fcaab6fbad3   \n",
       "3  540e7bbb2d06cfb7f85f3a88ba7ac97f  cf73e2cb1f4a9480ed70c154da3d954a   \n",
       "4  6a18a4001ae7fd911b3b9fb13686d105  8ba3f3a9292fbc22a8b7dff752bbcd37   \n",
       "\n",
       "   review_score review_comment_title  \\\n",
       "0             5                        \n",
       "1             5                        \n",
       "2             1                        \n",
       "3             5                        \n",
       "4             5                        \n",
       "\n",
       "                              review_comment_message review_creation_date  \\\n",
       "0  A compra foi realizada facilmente.\\r\\nA entreg...  2018-03-23 00:00:00   \n",
       "1                     relógio muito bonito e barato.  2018-03-29 00:00:00   \n",
       "2                Não gostei ! Comprei gato por lebre  2017-12-13 00:00:00   \n",
       "3                                                     2018-01-18 00:00:00   \n",
       "4                                                     2017-07-19 00:00:00   \n",
       "\n",
       "  review_answer_timestamp  \n",
       "0     2018-04-01 00:27:51  \n",
       "1     2018-04-02 14:19:31  \n",
       "2     2017-12-16 07:14:07  \n",
       "3     2018-01-18 19:12:30  \n",
       "4     2017-07-20 10:38:48  "
      ]
     },
     "execution_count": 3,
     "metadata": {},
     "output_type": "execute_result"
    }
   ],
   "source": [
    "df_reviews.head()"
   ]
  },
  {
   "cell_type": "markdown",
   "metadata": {},
   "source": [
    "# Analyse de review_score"
   ]
  },
  {
   "cell_type": "code",
   "execution_count": 17,
   "metadata": {},
   "outputs": [
    {
     "name": "stderr",
     "output_type": "stream",
     "text": [
      "/var/folders/py/4rt338cj1ks4z3332m7l3f880000gp/T/ipykernel_10163/3515224558.py:2: FutureWarning: \n",
      "\n",
      "Passing `palette` without assigning `hue` is deprecated and will be removed in v0.14.0. Assign the `x` variable to `hue` and set `legend=False` for the same effect.\n",
      "\n",
      "  ax = sns.countplot(x='review_score', data=df_reviews, palette='viridis')\n",
      "/Users/charles/Documents/pythonProject/date_engineer_week_brief-1/env/lib/python3.10/site-packages/seaborn/_base.py:949: FutureWarning: When grouping with a length-1 list-like, you will need to pass a length-1 tuple to get_group in a future version of pandas. Pass `(name,)` instead of `name` to silence this warning.\n",
      "  data_subset = grouped_data.get_group(pd_key)\n",
      "/Users/charles/Documents/pythonProject/date_engineer_week_brief-1/env/lib/python3.10/site-packages/seaborn/_base.py:949: FutureWarning: When grouping with a length-1 list-like, you will need to pass a length-1 tuple to get_group in a future version of pandas. Pass `(name,)` instead of `name` to silence this warning.\n",
      "  data_subset = grouped_data.get_group(pd_key)\n",
      "/Users/charles/Documents/pythonProject/date_engineer_week_brief-1/env/lib/python3.10/site-packages/seaborn/_base.py:949: FutureWarning: When grouping with a length-1 list-like, you will need to pass a length-1 tuple to get_group in a future version of pandas. Pass `(name,)` instead of `name` to silence this warning.\n",
      "  data_subset = grouped_data.get_group(pd_key)\n",
      "/Users/charles/Documents/pythonProject/date_engineer_week_brief-1/env/lib/python3.10/site-packages/seaborn/_base.py:949: FutureWarning: When grouping with a length-1 list-like, you will need to pass a length-1 tuple to get_group in a future version of pandas. Pass `(name,)` instead of `name` to silence this warning.\n",
      "  data_subset = grouped_data.get_group(pd_key)\n",
      "/Users/charles/Documents/pythonProject/date_engineer_week_brief-1/env/lib/python3.10/site-packages/seaborn/_base.py:949: FutureWarning: When grouping with a length-1 list-like, you will need to pass a length-1 tuple to get_group in a future version of pandas. Pass `(name,)` instead of `name` to silence this warning.\n",
      "  data_subset = grouped_data.get_group(pd_key)\n"
     ]
    },
    {
     "data": {
      "text/plain": [
       "Text(0, 0.5, 'Fréquence')"
      ]
     },
     "execution_count": 17,
     "metadata": {},
     "output_type": "execute_result"
    },
    {
     "data": {
      "image/png": "[encoded data removed]",
      "text/plain": [
       "<Figure size 500x400 with 1 Axes>"
      ]
     },
     "metadata": {},
     "output_type": "display_data"
    }
   ],
   "source": [
    "plt.figure(figsize=(5, 4))\n",
    "ax = sns.countplot(x='review_score', data=df_reviews, palette='viridis')\n",
    "ax.set_title('Distribution des notes attribuées aux commandes')\n",
    "ax.set_xlabel('Note obtenue')\n",
    "ax.set_ylabel('Fréquence')\n"
   ]
  },
  {
   "cell_type": "code",
   "execution_count": 14,
   "metadata": {},
   "outputs": [
    {
     "name": "stderr",
     "output_type": "stream",
     "text": [
      "/var/folders/py/4rt338cj1ks4z3332m7l3f880000gp/T/ipykernel_10163/1495355128.py:3: FutureWarning: \n",
      "\n",
      "Passing `palette` without assigning `hue` is deprecated and will be removed in v0.14.0. Assign the `x` variable to `hue` and set `legend=False` for the same effect.\n",
      "\n",
      "  sns.countplot(x='review_score', data=df_reviews, palette='viridis')\n",
      "/Users/charles/Documents/pythonProject/date_engineer_week_brief-1/env/lib/python3.10/site-packages/seaborn/_base.py:949: FutureWarning: When grouping with a length-1 list-like, you will need to pass a length-1 tuple to get_group in a future version of pandas. Pass `(name,)` instead of `name` to silence this warning.\n",
      "  data_subset = grouped_data.get_group(pd_key)\n",
      "/Users/charles/Documents/pythonProject/date_engineer_week_brief-1/env/lib/python3.10/site-packages/seaborn/_base.py:949: FutureWarning: When grouping with a length-1 list-like, you will need to pass a length-1 tuple to get_group in a future version of pandas. Pass `(name,)` instead of `name` to silence this warning.\n",
      "  data_subset = grouped_data.get_group(pd_key)\n",
      "/Users/charles/Documents/pythonProject/date_engineer_week_brief-1/env/lib/python3.10/site-packages/seaborn/_base.py:949: FutureWarning: When grouping with a length-1 list-like, you will need to pass a length-1 tuple to get_group in a future version of pandas. Pass `(name,)` instead of `name` to silence this warning.\n",
      "  data_subset = grouped_data.get_group(pd_key)\n",
      "/Users/charles/Documents/pythonProject/date_engineer_week_brief-1/env/lib/python3.10/site-packages/seaborn/_base.py:949: FutureWarning: When grouping with a length-1 list-like, you will need to pass a length-1 tuple to get_group in a future version of pandas. Pass `(name,)` instead of `name` to silence this warning.\n",
      "  data_subset = grouped_data.get_group(pd_key)\n",
      "/Users/charles/Documents/pythonProject/date_engineer_week_brief-1/env/lib/python3.10/site-packages/seaborn/_base.py:949: FutureWarning: When grouping with a length-1 list-like, you will need to pass a length-1 tuple to get_group in a future version of pandas. Pass `(name,)` instead of `name` to silence this warning.\n",
      "  data_subset = grouped_data.get_group(pd_key)\n"
     ]
    },
    {
     "data": {
      "image/png": "[encoded data removed]",
      "text/plain": [
       "<Figure size 500x400 with 1 Axes>"
      ]
     },
     "metadata": {},
     "output_type": "display_data"
    }
   ],
   "source": [
    "# Créer le barplot avec Seaborn\n",
    "plt.figure(figsize=(5, 4))\n",
    "sns.countplot(x='review_score', data=df_reviews, palette='viridis')\n",
    "\n",
    "# Ajouter des étiquettes et un titre\n",
    "plt.xlabel('Note obtenue')\n",
    "plt.ylabel('Fréquence')\n",
    "plt.title('Distribution des notes attribuées aux commandes')\n",
    "\n",
    "# Afficher le graphique\n",
    "plt.show()"
   ]
  },
  {
   "cell_type": "code",
   "execution_count": 26,
   "metadata": {},
   "outputs": [
    {
     "data": {
      "text/plain": [
       "score\n",
       "1    56866\n",
       "0    41478\n",
       "Name: count, dtype: int64"
      ]
     },
     "execution_count": 26,
     "metadata": {},
     "output_type": "execute_result"
    }
   ],
   "source": [
    "df_reviews['score'] = df_reviews['review_score'].apply(lambda x : 1 if x==5 else 0)\n",
    "df_reviews['score'].value_counts() "
   ]
  },
  {
   "cell_type": "code",
   "execution_count": 45,
   "metadata": {},
   "outputs": [
    {
     "name": "stderr",
     "output_type": "stream",
     "text": [
      "/var/folders/py/4rt338cj1ks4z3332m7l3f880000gp/T/ipykernel_10163/3211183354.py:2: FutureWarning: \n",
      "\n",
      "Passing `palette` without assigning `hue` is deprecated and will be removed in v0.14.0. Assign the `x` variable to `hue` and set `legend=False` for the same effect.\n",
      "\n",
      "  ax = sns.countplot(x='score', data=df_reviews, palette='viridis')\n",
      "/Users/charles/Documents/pythonProject/date_engineer_week_brief-1/env/lib/python3.10/site-packages/seaborn/_base.py:949: FutureWarning: When grouping with a length-1 list-like, you will need to pass a length-1 tuple to get_group in a future version of pandas. Pass `(name,)` instead of `name` to silence this warning.\n",
      "  data_subset = grouped_data.get_group(pd_key)\n",
      "/Users/charles/Documents/pythonProject/date_engineer_week_brief-1/env/lib/python3.10/site-packages/seaborn/_base.py:949: FutureWarning: When grouping with a length-1 list-like, you will need to pass a length-1 tuple to get_group in a future version of pandas. Pass `(name,)` instead of `name` to silence this warning.\n",
      "  data_subset = grouped_data.get_group(pd_key)\n"
     ]
    },
    {
     "name": "stdout",
     "output_type": "stream",
     "text": [
      "<class 'str'>\n",
      "<class 'str'>\n"
     ]
    },
    {
     "data": {
      "text/plain": [
       "Text(0, 0.5, 'Fréquence')"
      ]
     },
     "execution_count": 45,
     "metadata": {},
     "output_type": "execute_result"
    },
    {
     "data": {
      "image/png": "[encoded data removed]",
      "text/plain": [
       "<Figure size 500x400 with 1 Axes>"
      ]
     },
     "metadata": {},
     "output_type": "display_data"
    }
   ],
   "source": [
    "plt.figure(figsize=(5, 4))\n",
    "ax = sns.countplot(x='score', data=df_reviews, palette='viridis')\n",
    "\n",
    "# Add percentages to each bar\n",
    "total = len(df_reviews['score'])\n",
    "for p in ax.patches:\n",
    "    percentage = '{:.1f}%'.format(100 * p.get_height() / total)\n",
    "    # percentage = 100 * p.get_height() / total\n",
    "    print(type(percentage))\n",
    "    x = p.get_x() + p.get_width() / 2 \n",
    "    y = p.get_height() + 1000\n",
    "    ax.annotate(percentage, (x, y), ha='center')\n",
    "\n",
    "\n",
    "ax.set_title('Distribution des notes attribuées aux commandes')\n",
    "ax.set_xlabel('Note obtenue')\n",
    "ax.set_ylabel('Fréquence')"
   ]
  },
  {
   "cell_type": "markdown",
   "metadata": {},
   "source": [
    "# 2 Analyse des variables de la table Orders"
   ]
  },
  {
   "cell_type": "code",
   "execution_count": 6,
   "metadata": {},
   "outputs": [],
   "source": [
    "connection = sqlite3.connect(\"olist.db\")\n",
    "\n",
    "df = pd.read_sql_query(\"SELECT * FROM CleanDataset\",connection)\n",
    "\n",
    "connection.close()"
   ]
  },
  {
   "cell_type": "code",
   "execution_count": 7,
   "metadata": {},
   "outputs": [
    {
     "name": "stdout",
     "output_type": "stream",
     "text": [
      "<class 'pandas.core.frame.DataFrame'>\n",
      "RangeIndex: 98344 entries, 0 to 98343\n",
      "Data columns (total 14 columns):\n",
      " #   Column                         Non-Null Count  Dtype \n",
      "---  ------                         --------------  ----- \n",
      " 0   review_id                      98344 non-null  object\n",
      " 1   order_id                       98344 non-null  object\n",
      " 2   review_score                   98344 non-null  int64 \n",
      " 3   review_comment_title           98344 non-null  object\n",
      " 4   review_comment_message         98344 non-null  object\n",
      " 5   review_creation_date           98344 non-null  object\n",
      " 6   review_answer_timestamp        98344 non-null  object\n",
      " 7   customer_id                    98344 non-null  object\n",
      " 8   order_status                   98344 non-null  object\n",
      " 9   order_purchase_timestamp       98344 non-null  object\n",
      " 10  order_approved_at              98344 non-null  object\n",
      " 11  order_delivered_carrier_date   98344 non-null  object\n",
      " 12  order_delivered_customer_date  95542 non-null  object\n",
      " 13  order_estimated_delivery_date  98344 non-null  object\n",
      "dtypes: int64(1), object(13)\n",
      "memory usage: 10.5+ MB\n"
     ]
    }
   ],
   "source": [
    "df.info()"
   ]
  },
  {
   "cell_type": "markdown",
   "metadata": {},
   "source": [
    "Consignes\n",
    "\n",
    "- Creer les variables: \n",
    "  - retard_livraison (date_estimé - date_livraison)\n",
    "  - temps_livraison (date_livraison - date commande)\n",
    "  - produit_recu : il y a une date de livraison et elle est antétieur à la date de commentaire\n",
    "\n",
    "- Faire une analyse univariée de ces variables\n",
    "  - Voir si la données est propre (pas de valeur abbérante)\n",
    "  - Comprendre la distribution\n",
    "\n",
    "- Faire une analyse bivariées (avec la variables cibles de ces varaibles\n",
    "    - Voir le potentiel explicatif \n",
    "    - Comprendre la relation entre les deux variables"
   ]
  },
  {
   "cell_type": "code",
   "execution_count": 58,
   "metadata": {},
   "outputs": [],
   "source": [
    "from utils import import_clean_dataset\n",
    "\n",
    "df = import_clean_dataset()\n",
    "df['score'] = df['review_score'].apply(lambda x : 1 if x==5 else 0)"
   ]
  },
  {
   "cell_type": "code",
   "execution_count": 9,
   "metadata": {},
   "outputs": [
    {
     "name": "stdout",
     "output_type": "stream",
     "text": [
      "<class 'pandas.core.frame.DataFrame'>\n",
      "RangeIndex: 98344 entries, 0 to 98343\n",
      "Data columns (total 14 columns):\n",
      " #   Column                         Non-Null Count  Dtype         \n",
      "---  ------                         --------------  -----         \n",
      " 0   review_id                      98344 non-null  object        \n",
      " 1   order_id                       98344 non-null  object        \n",
      " 2   review_score                   98344 non-null  int64         \n",
      " 3   review_comment_title           98344 non-null  object        \n",
      " 4   review_comment_message         98344 non-null  object        \n",
      " 5   review_creation_date           98344 non-null  datetime64[ns]\n",
      " 6   review_answer_timestamp        98344 non-null  datetime64[ns]\n",
      " 7   customer_id                    98344 non-null  object        \n",
      " 8   order_status                   98344 non-null  object        \n",
      " 9   order_purchase_timestamp       98344 non-null  datetime64[ns]\n",
      " 10  order_approved_at              98344 non-null  object        \n",
      " 11  order_delivered_carrier_date   98344 non-null  object        \n",
      " 12  order_delivered_customer_date  95542 non-null  datetime64[ns]\n",
      " 13  order_estimated_delivery_date  98344 non-null  datetime64[ns]\n",
      "dtypes: datetime64[ns](5), int64(1), object(8)\n",
      "memory usage: 10.5+ MB\n"
     ]
    }
   ],
   "source": [
    "df.info()"
   ]
  },
  {
   "cell_type": "markdown",
   "metadata": {},
   "source": [
    "## Temps de livraison"
   ]
  },
  {
   "cell_type": "code",
   "execution_count": 59,
   "metadata": {},
   "outputs": [],
   "source": [
    "df[\"temps_livraison\"] = (df.order_delivered_customer_date - df.order_purchase_timestamp).dt.days"
   ]
  },
  {
   "cell_type": "code",
   "execution_count": 60,
   "metadata": {},
   "outputs": [
    {
     "data": {
      "text/plain": [
       "0     4.0\n",
       "1    18.0\n",
       "2    18.0\n",
       "3     6.0\n",
       "4    11.0\n",
       "Name: temps_livraison, dtype: float64"
      ]
     },
     "execution_count": 60,
     "metadata": {},
     "output_type": "execute_result"
    }
   ],
   "source": [
    "df[\"temps_livraison\"].head()"
   ]
  },
  {
   "cell_type": "code",
   "execution_count": 62,
   "metadata": {},
   "outputs": [
    {
     "name": "stderr",
     "output_type": "stream",
     "text": [
      "/Users/charles/Documents/pythonProject/date_engineer_week_brief-1/env/lib/python3.10/site-packages/seaborn/categorical.py:640: FutureWarning: SeriesGroupBy.grouper is deprecated and will be removed in a future version of pandas.\n",
      "  positions = grouped.grouper.result_index.to_numpy(dtype=float)\n"
     ]
    },
    {
     "data": {
      "image/png": "[encoded data removed]",
      "text/plain": [
       "<Figure size 800x400 with 2 Axes>"
      ]
     },
     "metadata": {},
     "output_type": "display_data"
    }
   ],
   "source": [
    "fig, (ax1,ax2) = plt.subplots(1,2, figsize=(8, 4))\n",
    "# Plot the histogram\n",
    "ax1.hist(df.temps_livraison, bins=100, color='skyblue', edgecolor='black')\n",
    "\n",
    "# Add labels and title\n",
    "ax1.set_xlabel('Values')\n",
    "ax1.set_ylabel('Frequency')\n",
    "ax1.set_title('Distribution de temps de livraison')\n",
    "\n",
    "# Plot the histogram\n",
    "ax2 = sns.boxplot(x=df.temps_livraison, color='skyblue')\n",
    "\n",
    "# Add labels and title\n",
    "ax2.set_xlabel('Values')\n",
    "ax2.set_ylabel('Quantiles')\n",
    "ax2.set_title('Distribution de temps de livraison')\n",
    "\n",
    "# Show the plot\n",
    "plt.show()"
   ]
  },
  {
   "cell_type": "code",
   "execution_count": 65,
   "metadata": {},
   "outputs": [
    {
     "name": "stderr",
     "output_type": "stream",
     "text": [
      "/Users/charles/Documents/pythonProject/date_engineer_week_brief-1/env/lib/python3.10/site-packages/seaborn/_base.py:949: FutureWarning: When grouping with a length-1 list-like, you will need to pass a length-1 tuple to get_group in a future version of pandas. Pass `(name,)` instead of `name` to silence this warning.\n",
      "  data_subset = grouped_data.get_group(pd_key)\n",
      "/Users/charles/Documents/pythonProject/date_engineer_week_brief-1/env/lib/python3.10/site-packages/seaborn/categorical.py:640: FutureWarning: SeriesGroupBy.grouper is deprecated and will be removed in a future version of pandas.\n",
      "  positions = grouped.grouper.result_index.to_numpy(dtype=float)\n",
      "/Users/charles/Documents/pythonProject/date_engineer_week_brief-1/env/lib/python3.10/site-packages/seaborn/_base.py:949: FutureWarning: When grouping with a length-1 list-like, you will need to pass a length-1 tuple to get_group in a future version of pandas. Pass `(name,)` instead of `name` to silence this warning.\n",
      "  data_subset = grouped_data.get_group(pd_key)\n",
      "/Users/charles/Documents/pythonProject/date_engineer_week_brief-1/env/lib/python3.10/site-packages/seaborn/categorical.py:640: FutureWarning: SeriesGroupBy.grouper is deprecated and will be removed in a future version of pandas.\n",
      "  positions = grouped.grouper.result_index.to_numpy(dtype=float)\n"
     ]
    },
    {
     "data": {
      "image/png": "[encoded data removed]",
      "text/plain": [
       "<Figure size 640x480 with 1 Axes>"
      ]
     },
     "metadata": {},
     "output_type": "display_data"
    }
   ],
   "source": [
    "# Plot the histogram\n",
    "ax = sns.boxplot(x=df.temps_livraison, hue = df.score, showfliers=False)\n",
    "\n",
    "# Add labels and title\n",
    "ax.set_xlabel('Temps de livraiso,')\n",
    "ax.set_ylabel('Score')\n",
    "ax.set_title('Distribution de temps de livraison')\n",
    "\n",
    "# Show the plot\n",
    "plt.show()"
   ]
  },
  {
   "cell_type": "code",
   "execution_count": 71,
   "metadata": {},
   "outputs": [
    {
     "data": {
      "text/html": [
       "<div>\n",
       "<style scoped>\n",
       "    .dataframe tbody tr th:only-of-type {\n",
       "        vertical-align: middle;\n",
       "    }\n",
       "\n",
       "    .dataframe tbody tr th {\n",
       "        vertical-align: top;\n",
       "    }\n",
       "\n",
       "    .dataframe thead tr th {\n",
       "        text-align: left;\n",
       "    }\n",
       "\n",
       "    .dataframe thead tr:last-of-type th {\n",
       "        text-align: right;\n",
       "    }\n",
       "</style>\n",
       "<table border=\"1\" class=\"dataframe\">\n",
       "  <thead>\n",
       "    <tr>\n",
       "      <th></th>\n",
       "      <th colspan=\"8\" halign=\"left\">temps_livraison</th>\n",
       "    </tr>\n",
       "    <tr>\n",
       "      <th></th>\n",
       "      <th>count</th>\n",
       "      <th>mean</th>\n",
       "      <th>std</th>\n",
       "      <th>min</th>\n",
       "      <th>25%</th>\n",
       "      <th>50%</th>\n",
       "      <th>75%</th>\n",
       "      <th>max</th>\n",
       "    </tr>\n",
       "    <tr>\n",
       "      <th>score</th>\n",
       "      <th></th>\n",
       "      <th></th>\n",
       "      <th></th>\n",
       "      <th></th>\n",
       "      <th></th>\n",
       "      <th></th>\n",
       "      <th></th>\n",
       "      <th></th>\n",
       "    </tr>\n",
       "  </thead>\n",
       "  <tbody>\n",
       "    <tr>\n",
       "      <th>0</th>\n",
       "      <td>38928.0</td>\n",
       "      <td>14.719148</td>\n",
       "      <td>11.844503</td>\n",
       "      <td>0.0</td>\n",
       "      <td>7.0</td>\n",
       "      <td>12.0</td>\n",
       "      <td>19.0</td>\n",
       "      <td>208.0</td>\n",
       "    </tr>\n",
       "    <tr>\n",
       "      <th>1</th>\n",
       "      <td>56614.0</td>\n",
       "      <td>10.215017</td>\n",
       "      <td>6.821506</td>\n",
       "      <td>0.0</td>\n",
       "      <td>6.0</td>\n",
       "      <td>9.0</td>\n",
       "      <td>13.0</td>\n",
       "      <td>187.0</td>\n",
       "    </tr>\n",
       "  </tbody>\n",
       "</table>\n",
       "</div>"
      ],
      "text/plain": [
       "      temps_livraison                                                   \n",
       "                count       mean        std  min  25%   50%   75%    max\n",
       "score                                                                   \n",
       "0             38928.0  14.719148  11.844503  0.0  7.0  12.0  19.0  208.0\n",
       "1             56614.0  10.215017   6.821506  0.0  6.0   9.0  13.0  187.0"
      ]
     },
     "execution_count": 71,
     "metadata": {},
     "output_type": "execute_result"
    }
   ],
   "source": [
    "df[[\"score\",\"temps_livraison\"]].groupby(by='score').describe()"
   ]
  },
  {
   "cell_type": "markdown",
   "metadata": {},
   "source": [
    "Conclusion de l'analyse de temps de livraison:\n",
    "- il y a des valeurs extremes pour temps de livraison, un travail est potentiellement nécessaire:\n",
    "  - Soit binariser la variable (créer des catégories)\n",
    "  - Soit plafonner la variable (remplace les valeurs extreme par un maximum qu'on défini)\n",
    "  - Soit laisser telle quelle la variable\n",
    "- Les écarts de moyene et de médiane semblent nous indiquer un fort pouvori explicatif de la variable temps de livraison sur la satisfaction."
   ]
  },
  {
   "cell_type": "markdown",
   "metadata": {},
   "source": [
    "## Retard de livraison"
   ]
  },
  {
   "cell_type": "code",
   "execution_count": 74,
   "metadata": {},
   "outputs": [],
   "source": [
    "df[\"retard_livraison\"] = (df.order_delivered_customer_date - df.order_estimated_delivery_date).dt.days"
   ]
  },
  {
   "cell_type": "code",
   "execution_count": 75,
   "metadata": {},
   "outputs": [
    {
     "data": {
      "text/html": [
       "<div>\n",
       "<style scoped>\n",
       "    .dataframe tbody tr th:only-of-type {\n",
       "        vertical-align: middle;\n",
       "    }\n",
       "\n",
       "    .dataframe tbody tr th {\n",
       "        vertical-align: top;\n",
       "    }\n",
       "\n",
       "    .dataframe thead th {\n",
       "        text-align: right;\n",
       "    }\n",
       "</style>\n",
       "<table border=\"1\" class=\"dataframe\">\n",
       "  <thead>\n",
       "    <tr style=\"text-align: right;\">\n",
       "      <th></th>\n",
       "      <th>order_estimated_delivery_date</th>\n",
       "      <th>order_delivered_customer_date</th>\n",
       "      <th>retard_livraison</th>\n",
       "    </tr>\n",
       "  </thead>\n",
       "  <tbody>\n",
       "    <tr>\n",
       "      <th>0</th>\n",
       "      <td>2018-04-11</td>\n",
       "      <td>2018-03-23 00:32:34</td>\n",
       "      <td>-19.0</td>\n",
       "    </tr>\n",
       "    <tr>\n",
       "      <th>1</th>\n",
       "      <td>2018-03-29</td>\n",
       "      <td>2018-03-28 18:13:06</td>\n",
       "      <td>-1.0</td>\n",
       "    </tr>\n",
       "    <tr>\n",
       "      <th>2</th>\n",
       "      <td>2017-12-19</td>\n",
       "      <td>2017-12-13 00:28:44</td>\n",
       "      <td>-6.0</td>\n",
       "    </tr>\n",
       "    <tr>\n",
       "      <th>3</th>\n",
       "      <td>2018-02-01</td>\n",
       "      <td>2018-01-17 14:36:38</td>\n",
       "      <td>-15.0</td>\n",
       "    </tr>\n",
       "    <tr>\n",
       "      <th>4</th>\n",
       "      <td>2017-07-31</td>\n",
       "      <td>2017-07-18 23:16:44</td>\n",
       "      <td>-13.0</td>\n",
       "    </tr>\n",
       "  </tbody>\n",
       "</table>\n",
       "</div>"
      ],
      "text/plain": [
       "  order_estimated_delivery_date order_delivered_customer_date  \\\n",
       "0                    2018-04-11           2018-03-23 00:32:34   \n",
       "1                    2018-03-29           2018-03-28 18:13:06   \n",
       "2                    2017-12-19           2017-12-13 00:28:44   \n",
       "3                    2018-02-01           2018-01-17 14:36:38   \n",
       "4                    2017-07-31           2017-07-18 23:16:44   \n",
       "\n",
       "   retard_livraison  \n",
       "0             -19.0  \n",
       "1              -1.0  \n",
       "2              -6.0  \n",
       "3             -15.0  \n",
       "4             -13.0  "
      ]
     },
     "execution_count": 75,
     "metadata": {},
     "output_type": "execute_result"
    }
   ],
   "source": [
    "df[[\"order_estimated_delivery_date\",\"order_delivered_customer_date\", \"retard_livraison\"]].head()"
   ]
  },
  {
   "cell_type": "code",
   "execution_count": 95,
   "metadata": {},
   "outputs": [
    {
     "name": "stderr",
     "output_type": "stream",
     "text": [
      "/Users/charles/Documents/pythonProject/date_engineer_week_brief-1/env/lib/python3.10/site-packages/seaborn/categorical.py:640: FutureWarning: SeriesGroupBy.grouper is deprecated and will be removed in a future version of pandas.\n",
      "  positions = grouped.grouper.result_index.to_numpy(dtype=float)\n",
      "/Users/charles/Documents/pythonProject/date_engineer_week_brief-1/env/lib/python3.10/site-packages/seaborn/categorical.py:640: FutureWarning: SeriesGroupBy.grouper is deprecated and will be removed in a future version of pandas.\n",
      "  positions = grouped.grouper.result_index.to_numpy(dtype=float)\n"
     ]
    },
    {
     "data": {
      "image/png": "[encoded data removed]",
      "text/plain": [
       "<Figure size 800x600 with 3 Axes>"
      ]
     },
     "metadata": {},
     "output_type": "display_data"
    }
   ],
   "source": [
    "fig,(ax1,ax2,ax3) = plt.subplots(3,1, figsize=(8, 6))\n",
    "# Plot the histogram\n",
    "ax1.hist(df[\"retard_livraison\"] , bins=8, color='skyblue', edgecolor='black')\n",
    "\n",
    "# Add labels and title\n",
    "ax1.set_xlabel('Values')\n",
    "ax1.set_ylabel('Frequency')\n",
    "ax1.set_title('Distribution de temps de livraison')\n",
    "\n",
    "# Plot the histogram\n",
    "ax2 = sns.boxplot(x=df[\"retard_livraison\"] , showfliers=False)\n",
    "\n",
    "# Add labels and title\n",
    "ax2.set_xlabel('Values')\n",
    "ax2.set_ylabel('Quantiles')\n",
    "ax2.set_title('Distribution de temps de livraison')\n",
    "\n",
    "# Plot the histogram\n",
    "ax3 = sns.boxplot(x=df[\"retard_livraison\"] , showfliers=False)\n",
    "\n",
    "# Add labels and title\n",
    "ax3.set_xlabel('Values')\n",
    "ax3.set_ylabel('Quantiles')\n",
    "ax3.set_title('Distribution de temps de livraison')\n",
    "\n",
    "\n",
    "# Show the plot\n",
    "plt.show()"
   ]
  },
  {
   "cell_type": "code",
   "execution_count": 87,
   "metadata": {},
   "outputs": [
    {
     "name": "stderr",
     "output_type": "stream",
     "text": [
      "/Users/charles/Documents/pythonProject/date_engineer_week_brief-1/env/lib/python3.10/site-packages/seaborn/_base.py:949: FutureWarning: When grouping with a length-1 list-like, you will need to pass a length-1 tuple to get_group in a future version of pandas. Pass `(name,)` instead of `name` to silence this warning.\n",
      "  data_subset = grouped_data.get_group(pd_key)\n",
      "/Users/charles/Documents/pythonProject/date_engineer_week_brief-1/env/lib/python3.10/site-packages/seaborn/categorical.py:640: FutureWarning: SeriesGroupBy.grouper is deprecated and will be removed in a future version of pandas.\n",
      "  positions = grouped.grouper.result_index.to_numpy(dtype=float)\n",
      "/Users/charles/Documents/pythonProject/date_engineer_week_brief-1/env/lib/python3.10/site-packages/seaborn/_base.py:949: FutureWarning: When grouping with a length-1 list-like, you will need to pass a length-1 tuple to get_group in a future version of pandas. Pass `(name,)` instead of `name` to silence this warning.\n",
      "  data_subset = grouped_data.get_group(pd_key)\n",
      "/Users/charles/Documents/pythonProject/date_engineer_week_brief-1/env/lib/python3.10/site-packages/seaborn/categorical.py:640: FutureWarning: SeriesGroupBy.grouper is deprecated and will be removed in a future version of pandas.\n",
      "  positions = grouped.grouper.result_index.to_numpy(dtype=float)\n"
     ]
    },
    {
     "data": {
      "image/png": "[encoded data removed]",
      "text/plain": [
       "<Figure size 640x480 with 1 Axes>"
      ]
     },
     "metadata": {},
     "output_type": "display_data"
    }
   ],
   "source": [
    "# Plot the histogram\n",
    "ax = sns.boxplot(x=df[\"retard_livraison\"] , hue = df['score'], showfliers=False)\n",
    "\n",
    "# Add labels and title\n",
    "ax.set_xlabel('Values')\n",
    "ax.set_ylabel('Quantiles')\n",
    "ax.set_title('Distribution de temps de livraison')\n",
    "\n",
    "# Show the plot\n",
    "plt.show()"
   ]
  },
  {
   "cell_type": "code",
   "execution_count": 88,
   "metadata": {},
   "outputs": [
    {
     "data": {
      "text/html": [
       "<div>\n",
       "<style scoped>\n",
       "    .dataframe tbody tr th:only-of-type {\n",
       "        vertical-align: middle;\n",
       "    }\n",
       "\n",
       "    .dataframe tbody tr th {\n",
       "        vertical-align: top;\n",
       "    }\n",
       "\n",
       "    .dataframe thead tr th {\n",
       "        text-align: left;\n",
       "    }\n",
       "\n",
       "    .dataframe thead tr:last-of-type th {\n",
       "        text-align: right;\n",
       "    }\n",
       "</style>\n",
       "<table border=\"1\" class=\"dataframe\">\n",
       "  <thead>\n",
       "    <tr>\n",
       "      <th></th>\n",
       "      <th colspan=\"8\" halign=\"left\">retard_livraison</th>\n",
       "    </tr>\n",
       "    <tr>\n",
       "      <th></th>\n",
       "      <th>count</th>\n",
       "      <th>mean</th>\n",
       "      <th>std</th>\n",
       "      <th>min</th>\n",
       "      <th>25%</th>\n",
       "      <th>50%</th>\n",
       "      <th>75%</th>\n",
       "      <th>max</th>\n",
       "    </tr>\n",
       "    <tr>\n",
       "      <th>score</th>\n",
       "      <th></th>\n",
       "      <th></th>\n",
       "      <th></th>\n",
       "      <th></th>\n",
       "      <th></th>\n",
       "      <th></th>\n",
       "      <th></th>\n",
       "      <th></th>\n",
       "    </tr>\n",
       "  </thead>\n",
       "  <tbody>\n",
       "    <tr>\n",
       "      <th>0</th>\n",
       "      <td>38928.0</td>\n",
       "      <td>-9.771938</td>\n",
       "      <td>12.104752</td>\n",
       "      <td>-135.0</td>\n",
       "      <td>-16.0</td>\n",
       "      <td>-11.0</td>\n",
       "      <td>-5.0</td>\n",
       "      <td>188.0</td>\n",
       "    </tr>\n",
       "    <tr>\n",
       "      <th>1</th>\n",
       "      <td>56614.0</td>\n",
       "      <td>-13.380524</td>\n",
       "      <td>8.149313</td>\n",
       "      <td>-147.0</td>\n",
       "      <td>-18.0</td>\n",
       "      <td>-13.0</td>\n",
       "      <td>-8.0</td>\n",
       "      <td>155.0</td>\n",
       "    </tr>\n",
       "  </tbody>\n",
       "</table>\n",
       "</div>"
      ],
      "text/plain": [
       "      retard_livraison                                                     \n",
       "                 count       mean        std    min   25%   50%  75%    max\n",
       "score                                                                      \n",
       "0              38928.0  -9.771938  12.104752 -135.0 -16.0 -11.0 -5.0  188.0\n",
       "1              56614.0 -13.380524   8.149313 -147.0 -18.0 -13.0 -8.0  155.0"
      ]
     },
     "execution_count": 88,
     "metadata": {},
     "output_type": "execute_result"
    }
   ],
   "source": [
    "df[[\"score\",\"retard_livraison\"]].groupby(by='score').describe()"
   ]
  },
  {
   "cell_type": "markdown",
   "metadata": {},
   "source": [
    "Conclusion de l'analyse de retard de livraison:\n",
    "- il y a des valeurs extremes pour retard de livraison, un travail est potentiellement nécessaire:\n",
    "  - Soit binariser la variable (créer des catégories)\n",
    "  - Soit plafonner la variable (remplace les valeurs extreme par un maximum qu'on défini)\n",
    "  - Soit laisser telle quelle la variable\n",
    "- Les écarts de moyene et de médiane semblent nous indiquer un  pouvoir explicatif de la variable retard de livraison sur la satisfaction.\n",
    "- On se pose également la question de savoir si ce pouvoir explicatif est le meme que celui de temps de livraison ou si ce sont deux explications distinctes"
   ]
  },
  {
   "cell_type": "markdown",
   "metadata": {},
   "source": [
    "## Analyse des dates de livraisons nulles"
   ]
  },
  {
   "cell_type": "code",
   "execution_count": 90,
   "metadata": {},
   "outputs": [
    {
     "data": {
      "text/plain": [
       "score\n",
       "0    2550\n",
       "1     252\n",
       "Name: count, dtype: int64"
      ]
     },
     "execution_count": 90,
     "metadata": {},
     "output_type": "execute_result"
    }
   ],
   "source": [
    "df.loc[df[\"order_delivered_customer_date\"].isna(),:][\"score\"].value_counts()"
   ]
  },
  {
   "cell_type": "markdown",
   "metadata": {},
   "source": [
    "## Produit reçu"
   ]
  },
  {
   "cell_type": "code",
   "execution_count": 92,
   "metadata": {},
   "outputs": [],
   "source": [
    "def f(x):\n",
    "    (delivered_date,review_date)=x\n",
    "    if pd.isna(delivered_date):\n",
    "        return 0\n",
    "    elif delivered_date.normalize()>review_date:\n",
    "        return 0\n",
    "    else:\n",
    "        return 1\n",
    "\n",
    "df['produit_recu'] = df[[\"order_delivered_customer_date\",\"review_creation_date\"]].apply(f, axis=1)\n",
    "\n"
   ]
  },
  {
   "cell_type": "code",
   "execution_count": 93,
   "metadata": {},
   "outputs": [
    {
     "data": {
      "text/html": [
       "<div>\n",
       "<style scoped>\n",
       "    .dataframe tbody tr th:only-of-type {\n",
       "        vertical-align: middle;\n",
       "    }\n",
       "\n",
       "    .dataframe tbody tr th {\n",
       "        vertical-align: top;\n",
       "    }\n",
       "\n",
       "    .dataframe thead th {\n",
       "        text-align: right;\n",
       "    }\n",
       "</style>\n",
       "<table border=\"1\" class=\"dataframe\">\n",
       "  <thead>\n",
       "    <tr style=\"text-align: right;\">\n",
       "      <th></th>\n",
       "      <th>order_delivered_customer_date</th>\n",
       "      <th>review_creation_date</th>\n",
       "      <th>produit_recu</th>\n",
       "    </tr>\n",
       "  </thead>\n",
       "  <tbody>\n",
       "    <tr>\n",
       "      <th>0</th>\n",
       "      <td>2018-03-23 00:32:34</td>\n",
       "      <td>2018-03-23</td>\n",
       "      <td>1</td>\n",
       "    </tr>\n",
       "    <tr>\n",
       "      <th>1</th>\n",
       "      <td>2018-03-28 18:13:06</td>\n",
       "      <td>2018-03-29</td>\n",
       "      <td>1</td>\n",
       "    </tr>\n",
       "    <tr>\n",
       "      <th>2</th>\n",
       "      <td>2017-12-13 00:28:44</td>\n",
       "      <td>2017-12-13</td>\n",
       "      <td>1</td>\n",
       "    </tr>\n",
       "    <tr>\n",
       "      <th>3</th>\n",
       "      <td>2018-01-17 14:36:38</td>\n",
       "      <td>2018-01-18</td>\n",
       "      <td>1</td>\n",
       "    </tr>\n",
       "    <tr>\n",
       "      <th>4</th>\n",
       "      <td>2017-07-18 23:16:44</td>\n",
       "      <td>2017-07-19</td>\n",
       "      <td>1</td>\n",
       "    </tr>\n",
       "    <tr>\n",
       "      <th>5</th>\n",
       "      <td>2018-04-11 02:12:46</td>\n",
       "      <td>2018-04-08</td>\n",
       "      <td>0</td>\n",
       "    </tr>\n",
       "    <tr>\n",
       "      <th>6</th>\n",
       "      <td>2018-08-24 23:42:42</td>\n",
       "      <td>2018-08-25</td>\n",
       "      <td>1</td>\n",
       "    </tr>\n",
       "    <tr>\n",
       "      <th>7</th>\n",
       "      <td>2018-06-06 18:22:40</td>\n",
       "      <td>2018-06-07</td>\n",
       "      <td>1</td>\n",
       "    </tr>\n",
       "    <tr>\n",
       "      <th>8</th>\n",
       "      <td>2017-09-11 19:20:02</td>\n",
       "      <td>2017-09-12</td>\n",
       "      <td>1</td>\n",
       "    </tr>\n",
       "    <tr>\n",
       "      <th>9</th>\n",
       "      <td>2018-06-12 19:41:53</td>\n",
       "      <td>2018-06-13</td>\n",
       "      <td>1</td>\n",
       "    </tr>\n",
       "    <tr>\n",
       "      <th>10</th>\n",
       "      <td>2018-03-21 17:41:01</td>\n",
       "      <td>2018-03-22</td>\n",
       "      <td>1</td>\n",
       "    </tr>\n",
       "    <tr>\n",
       "      <th>11</th>\n",
       "      <td>2018-08-09 00:21:10</td>\n",
       "      <td>2018-08-10</td>\n",
       "      <td>1</td>\n",
       "    </tr>\n",
       "    <tr>\n",
       "      <th>12</th>\n",
       "      <td>2017-04-24 09:18:11</td>\n",
       "      <td>2017-04-21</td>\n",
       "      <td>0</td>\n",
       "    </tr>\n",
       "    <tr>\n",
       "      <th>13</th>\n",
       "      <td>2018-05-12 15:04:50</td>\n",
       "      <td>2018-05-13</td>\n",
       "      <td>1</td>\n",
       "    </tr>\n",
       "    <tr>\n",
       "      <th>14</th>\n",
       "      <td>2018-02-19 22:54:48</td>\n",
       "      <td>2018-02-08</td>\n",
       "      <td>0</td>\n",
       "    </tr>\n",
       "  </tbody>\n",
       "</table>\n",
       "</div>"
      ],
      "text/plain": [
       "   order_delivered_customer_date review_creation_date  produit_recu\n",
       "0            2018-03-23 00:32:34           2018-03-23             1\n",
       "1            2018-03-28 18:13:06           2018-03-29             1\n",
       "2            2017-12-13 00:28:44           2017-12-13             1\n",
       "3            2018-01-17 14:36:38           2018-01-18             1\n",
       "4            2017-07-18 23:16:44           2017-07-19             1\n",
       "5            2018-04-11 02:12:46           2018-04-08             0\n",
       "6            2018-08-24 23:42:42           2018-08-25             1\n",
       "7            2018-06-06 18:22:40           2018-06-07             1\n",
       "8            2017-09-11 19:20:02           2017-09-12             1\n",
       "9            2018-06-12 19:41:53           2018-06-13             1\n",
       "10           2018-03-21 17:41:01           2018-03-22             1\n",
       "11           2018-08-09 00:21:10           2018-08-10             1\n",
       "12           2017-04-24 09:18:11           2017-04-21             0\n",
       "13           2018-05-12 15:04:50           2018-05-13             1\n",
       "14           2018-02-19 22:54:48           2018-02-08             0"
      ]
     },
     "execution_count": 93,
     "metadata": {},
     "output_type": "execute_result"
    }
   ],
   "source": [
    "df[[\"order_delivered_customer_date\",\"review_creation_date\",\"produit_recu\"]].head(15)"
   ]
  },
  {
   "cell_type": "code",
   "execution_count": 94,
   "metadata": {},
   "outputs": [
    {
     "data": {
      "text/plain": [
       "produit_recu\n",
       "1    0.920849\n",
       "0    0.079151\n",
       "Name: proportion, dtype: float64"
      ]
     },
     "execution_count": 94,
     "metadata": {},
     "output_type": "execute_result"
    }
   ],
   "source": [
    "df.produit_recu.value_counts(normalize=True)"
   ]
  },
  {
   "cell_type": "code",
   "execution_count": 45,
   "metadata": {},
   "outputs": [
    {
     "data": {
      "text/html": [
       "<div>\n",
       "<style scoped>\n",
       "    .dataframe tbody tr th:only-of-type {\n",
       "        vertical-align: middle;\n",
       "    }\n",
       "\n",
       "    .dataframe tbody tr th {\n",
       "        vertical-align: top;\n",
       "    }\n",
       "\n",
       "    .dataframe thead tr th {\n",
       "        text-align: left;\n",
       "    }\n",
       "\n",
       "    .dataframe thead tr:last-of-type th {\n",
       "        text-align: right;\n",
       "    }\n",
       "</style>\n",
       "<table border=\"1\" class=\"dataframe\">\n",
       "  <thead>\n",
       "    <tr>\n",
       "      <th></th>\n",
       "      <th colspan=\"8\" halign=\"left\">score</th>\n",
       "    </tr>\n",
       "    <tr>\n",
       "      <th></th>\n",
       "      <th>count</th>\n",
       "      <th>mean</th>\n",
       "      <th>std</th>\n",
       "      <th>min</th>\n",
       "      <th>25%</th>\n",
       "      <th>50%</th>\n",
       "      <th>75%</th>\n",
       "      <th>max</th>\n",
       "    </tr>\n",
       "    <tr>\n",
       "      <th>produit_recu</th>\n",
       "      <th></th>\n",
       "      <th></th>\n",
       "      <th></th>\n",
       "      <th></th>\n",
       "      <th></th>\n",
       "      <th></th>\n",
       "      <th></th>\n",
       "      <th></th>\n",
       "    </tr>\n",
       "  </thead>\n",
       "  <tbody>\n",
       "    <tr>\n",
       "      <th>0</th>\n",
       "      <td>7784.0</td>\n",
       "      <td>0.107528</td>\n",
       "      <td>0.309804</td>\n",
       "      <td>0.0</td>\n",
       "      <td>0.0</td>\n",
       "      <td>0.0</td>\n",
       "      <td>0.0</td>\n",
       "      <td>1.0</td>\n",
       "    </tr>\n",
       "    <tr>\n",
       "      <th>1</th>\n",
       "      <td>90560.0</td>\n",
       "      <td>0.618695</td>\n",
       "      <td>0.485710</td>\n",
       "      <td>0.0</td>\n",
       "      <td>0.0</td>\n",
       "      <td>1.0</td>\n",
       "      <td>1.0</td>\n",
       "      <td>1.0</td>\n",
       "    </tr>\n",
       "  </tbody>\n",
       "</table>\n",
       "</div>"
      ],
      "text/plain": [
       "                score                                             \n",
       "                count      mean       std  min  25%  50%  75%  max\n",
       "produit_recu                                                      \n",
       "0              7784.0  0.107528  0.309804  0.0  0.0  0.0  0.0  1.0\n",
       "1             90560.0  0.618695  0.485710  0.0  0.0  1.0  1.0  1.0"
      ]
     },
     "execution_count": 45,
     "metadata": {},
     "output_type": "execute_result"
    }
   ],
   "source": [
    "df[[\"score\",\"produit_recu\"]].groupby(by='produit_recu').describe()"
   ]
  },
  {
   "cell_type": "markdown",
   "metadata": {},
   "source": [
    "Conclusion pour produit reçu:\n",
    "- seulement 8% des commentaires concerne des gens qui n'ont pas reçu leur commande\n",
    "- Cependant l'écart de satisfaction entre ceux qui l'ont reçu et ceux qui ne l'ont pas reçu est très important, on s'attend donc a un pouvoir explicatif fort"
   ]
  },
  {
   "cell_type": "markdown",
   "metadata": {},
   "source": []
  }
 ],
 "metadata": {
  "kernelspec": {
   "display_name": "env",
   "language": "python",
   "name": "python3"
  },
  "language_info": {
   "codemirror_mode": {
    "name": "ipython",
    "version": 3
   },
   "file_extension": ".py",
   "mimetype": "text/x-python",
   "name": "python",
   "nbconvert_exporter": "python",
   "pygments_lexer": "ipython3",
   "version": "3.10.10"
  }
 },
 "nbformat": 4,
 "nbformat_minor": 2
}
